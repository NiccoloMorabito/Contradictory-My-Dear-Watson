{
 "cells": [
  {
   "cell_type": "code",
   "execution_count": 1,
   "id": "4327c061",
   "metadata": {
    "_cell_guid": "b1076dfc-b9ad-4769-8c92-a6c4dae69d19",
    "_uuid": "8f2839f25d086af736a60e9eeb907d3b93b6e0e5",
    "execution": {
     "iopub.execute_input": "2022-10-30T00:14:56.905366Z",
     "iopub.status.busy": "2022-10-30T00:14:56.904801Z",
     "iopub.status.idle": "2022-10-30T00:15:03.901097Z",
     "shell.execute_reply": "2022-10-30T00:15:03.900084Z"
    },
    "papermill": {
     "duration": 7.008349,
     "end_time": "2022-10-30T00:15:03.903774",
     "exception": false,
     "start_time": "2022-10-30T00:14:56.895425",
     "status": "completed"
    },
    "tags": []
   },
   "outputs": [],
   "source": [
    "import pandas as pd\n",
    "import numpy as np\n",
    "import os\n",
    "import gc\n",
    "import random\n",
    "from tqdm import tqdm\n",
    "\n",
    "from sklearn.model_selection import KFold, StratifiedKFold, train_test_split\n",
    "from sklearn.metrics import roc_auc_score, accuracy_score\n",
    "from sklearn.utils import shuffle\n",
    "\n",
    "import torch\n",
    "import torch.nn as nn\n",
    "import torch.optim as optim\n",
    "import torch.nn.functional as F\n",
    "from torch.utils.data import Dataset, DataLoader\n",
    "\n",
    "import transformers\n",
    "from transformers import AutoTokenizer, AdamW, AutoModelForSequenceClassification\n",
    "\n",
    "import warnings\n",
    "warnings.filterwarnings(\"ignore\")"
   ]
  },
  {
   "cell_type": "code",
   "execution_count": 2,
   "id": "5704cc84",
   "metadata": {
    "execution": {
     "iopub.execute_input": "2022-10-30T00:15:03.917974Z",
     "iopub.status.busy": "2022-10-30T00:15:03.917447Z",
     "iopub.status.idle": "2022-10-30T00:15:03.922391Z",
     "shell.execute_reply": "2022-10-30T00:15:03.921299Z"
    },
    "papermill": {
     "duration": 0.014432,
     "end_time": "2022-10-30T00:15:03.924823",
     "exception": false,
     "start_time": "2022-10-30T00:15:03.910391",
     "status": "completed"
    },
    "tags": []
   },
   "outputs": [],
   "source": [
    "INPUT_FOLDER = \"/kaggle/input/contradictory-my-dear-watson/\"\n",
    "TRAIN_PATH = os.path.join(INPUT_FOLDER, \"train.csv\")\n",
    "TEST_PATH = os.path.join(INPUT_FOLDER, \"test.csv\")"
   ]
  },
  {
   "cell_type": "code",
   "execution_count": 3,
   "id": "cbe22860",
   "metadata": {
    "execution": {
     "iopub.execute_input": "2022-10-30T00:15:03.938054Z",
     "iopub.status.busy": "2022-10-30T00:15:03.937521Z",
     "iopub.status.idle": "2022-10-30T00:15:21.018006Z",
     "shell.execute_reply": "2022-10-30T00:15:21.016785Z"
    },
    "papermill": {
     "duration": 17.090522,
     "end_time": "2022-10-30T00:15:21.021136",
     "exception": false,
     "start_time": "2022-10-30T00:15:03.930614",
     "status": "completed"
    },
    "tags": []
   },
   "outputs": [
    {
     "data": {
      "application/vnd.jupyter.widget-view+json": {
       "model_id": "5b99490bfd77460193bb04344a969239",
       "version_major": 2,
       "version_minor": 0
      },
      "text/plain": [
       "Downloading:   0%|          | 0.00/615 [00:00<?, ?B/s]"
      ]
     },
     "metadata": {},
     "output_type": "display_data"
    },
    {
     "data": {
      "application/vnd.jupyter.widget-view+json": {
       "model_id": "c0a6e705f8fe4ffa9e9c3d23e9602e50",
       "version_major": 2,
       "version_minor": 0
      },
      "text/plain": [
       "Downloading:   0%|          | 0.00/4.83M [00:00<?, ?B/s]"
      ]
     },
     "metadata": {},
     "output_type": "display_data"
    },
    {
     "data": {
      "application/vnd.jupyter.widget-view+json": {
       "model_id": "111383dad7034401b7ba9e8d2a692bd4",
       "version_major": 2,
       "version_minor": 0
      },
      "text/plain": [
       "Downloading:   0%|          | 0.00/8.68M [00:00<?, ?B/s]"
      ]
     },
     "metadata": {},
     "output_type": "display_data"
    }
   ],
   "source": [
    "MODEL_TYPE = 'xlm-roberta-base'\n",
    "L_RATE = 1e-5\n",
    "MAX_LEN = 256\n",
    "\n",
    "NUM_EPOCHS = 5 #training on more epochs, the validation accuracy seems to be stable\n",
    "BATCH_SIZE = 32\n",
    "NUM_FOLDS = 10\n",
    "NUM_FOLDS_TO_TRAIN = 3 \n",
    "NUM_CORES = os.cpu_count()\n",
    "\n",
    "NUM_CORES\n",
    "\n",
    "tokenizer = AutoTokenizer.from_pretrained(MODEL_TYPE)\n",
    "path_model = 'model_unique.bin'"
   ]
  },
  {
   "cell_type": "code",
   "execution_count": 4,
   "id": "6fce9dd5",
   "metadata": {
    "execution": {
     "iopub.execute_input": "2022-10-30T00:15:21.036137Z",
     "iopub.status.busy": "2022-10-30T00:15:21.035751Z",
     "iopub.status.idle": "2022-10-30T00:15:21.099645Z",
     "shell.execute_reply": "2022-10-30T00:15:21.098664Z"
    },
    "papermill": {
     "duration": 0.074081,
     "end_time": "2022-10-30T00:15:21.102159",
     "exception": false,
     "start_time": "2022-10-30T00:15:21.028078",
     "status": "completed"
    },
    "tags": []
   },
   "outputs": [],
   "source": [
    "# set the seed\n",
    "seed_val = 2022\n",
    "random.seed(seed_val)\n",
    "np.random.seed(seed_val)\n",
    "torch.manual_seed(seed_val)\n",
    "torch.cuda.manual_seed_all(seed_val)\n",
    "\n",
    "device = torch.device(\"cuda:0\" if torch.cuda.is_available() else \"cpu\") "
   ]
  },
  {
   "cell_type": "markdown",
   "id": "629b225b",
   "metadata": {
    "papermill": {
     "duration": 0.006332,
     "end_time": "2022-10-30T00:15:21.115000",
     "exception": false,
     "start_time": "2022-10-30T00:15:21.108668",
     "status": "completed"
    },
    "tags": []
   },
   "source": [
    "# LOADING DATA"
   ]
  },
  {
   "cell_type": "code",
   "execution_count": 5,
   "id": "2ca6eedb",
   "metadata": {
    "execution": {
     "iopub.execute_input": "2022-10-30T00:15:21.130605Z",
     "iopub.status.busy": "2022-10-30T00:15:21.129029Z",
     "iopub.status.idle": "2022-10-30T00:15:21.312603Z",
     "shell.execute_reply": "2022-10-30T00:15:21.311465Z"
    },
    "papermill": {
     "duration": 0.193341,
     "end_time": "2022-10-30T00:15:21.314803",
     "exception": false,
     "start_time": "2022-10-30T00:15:21.121462",
     "status": "completed"
    },
    "tags": []
   },
   "outputs": [
    {
     "name": "stdout",
     "output_type": "stream",
     "text": [
      "Number of instances in the training set: 12120\n",
      "Number of instances in the test set: 5195\n"
     ]
    },
    {
     "data": {
      "text/html": [
       "<div>\n",
       "<style scoped>\n",
       "    .dataframe tbody tr th:only-of-type {\n",
       "        vertical-align: middle;\n",
       "    }\n",
       "\n",
       "    .dataframe tbody tr th {\n",
       "        vertical-align: top;\n",
       "    }\n",
       "\n",
       "    .dataframe thead th {\n",
       "        text-align: right;\n",
       "    }\n",
       "</style>\n",
       "<table border=\"1\" class=\"dataframe\">\n",
       "  <thead>\n",
       "    <tr style=\"text-align: right;\">\n",
       "      <th></th>\n",
       "      <th>id</th>\n",
       "      <th>premise</th>\n",
       "      <th>hypothesis</th>\n",
       "      <th>lang_abv</th>\n",
       "      <th>language</th>\n",
       "      <th>label</th>\n",
       "    </tr>\n",
       "  </thead>\n",
       "  <tbody>\n",
       "    <tr>\n",
       "      <th>0</th>\n",
       "      <td>5130fd2cb5</td>\n",
       "      <td>and these comments were considered in formulat...</td>\n",
       "      <td>The rules developed in the interim were put to...</td>\n",
       "      <td>en</td>\n",
       "      <td>English</td>\n",
       "      <td>0</td>\n",
       "    </tr>\n",
       "    <tr>\n",
       "      <th>1</th>\n",
       "      <td>5b72532a0b</td>\n",
       "      <td>These are issues that we wrestle with in pract...</td>\n",
       "      <td>Practice groups are not permitted to work on t...</td>\n",
       "      <td>en</td>\n",
       "      <td>English</td>\n",
       "      <td>2</td>\n",
       "    </tr>\n",
       "    <tr>\n",
       "      <th>2</th>\n",
       "      <td>3931fbe82a</td>\n",
       "      <td>Des petites choses comme celles-là font une di...</td>\n",
       "      <td>J'essayais d'accomplir quelque chose.</td>\n",
       "      <td>fr</td>\n",
       "      <td>French</td>\n",
       "      <td>0</td>\n",
       "    </tr>\n",
       "    <tr>\n",
       "      <th>3</th>\n",
       "      <td>5622f0c60b</td>\n",
       "      <td>you know they can't really defend themselves l...</td>\n",
       "      <td>They can't defend themselves because of their ...</td>\n",
       "      <td>en</td>\n",
       "      <td>English</td>\n",
       "      <td>0</td>\n",
       "    </tr>\n",
       "    <tr>\n",
       "      <th>4</th>\n",
       "      <td>86aaa48b45</td>\n",
       "      <td>ในการเล่นบทบาทสมมุติก็เช่นกัน โอกาสที่จะได้แสด...</td>\n",
       "      <td>เด็กสามารถเห็นได้ว่าชาติพันธุ์แตกต่างกันอย่างไร</td>\n",
       "      <td>th</td>\n",
       "      <td>Thai</td>\n",
       "      <td>1</td>\n",
       "    </tr>\n",
       "  </tbody>\n",
       "</table>\n",
       "</div>"
      ],
      "text/plain": [
       "           id                                            premise  \\\n",
       "0  5130fd2cb5  and these comments were considered in formulat...   \n",
       "1  5b72532a0b  These are issues that we wrestle with in pract...   \n",
       "2  3931fbe82a  Des petites choses comme celles-là font une di...   \n",
       "3  5622f0c60b  you know they can't really defend themselves l...   \n",
       "4  86aaa48b45  ในการเล่นบทบาทสมมุติก็เช่นกัน โอกาสที่จะได้แสด...   \n",
       "\n",
       "                                          hypothesis lang_abv language  label  \n",
       "0  The rules developed in the interim were put to...       en  English      0  \n",
       "1  Practice groups are not permitted to work on t...       en  English      2  \n",
       "2              J'essayais d'accomplir quelque chose.       fr   French      0  \n",
       "3  They can't defend themselves because of their ...       en  English      0  \n",
       "4    เด็กสามารถเห็นได้ว่าชาติพันธุ์แตกต่างกันอย่างไร       th     Thai      1  "
      ]
     },
     "execution_count": 5,
     "metadata": {},
     "output_type": "execute_result"
    }
   ],
   "source": [
    "train = pd.read_csv(TRAIN_PATH)\n",
    "test = pd.read_csv(TEST_PATH)\n",
    "print(f\"Number of instances in the training set: {len(train)}\")\n",
    "print(f\"Number of instances in the test set: {len(test)}\")\n",
    "train.head()"
   ]
  },
  {
   "cell_type": "markdown",
   "id": "86515683",
   "metadata": {
    "papermill": {
     "duration": 0.006935,
     "end_time": "2022-10-30T00:15:21.328945",
     "exception": false,
     "start_time": "2022-10-30T00:15:21.322010",
     "status": "completed"
    },
    "tags": []
   },
   "source": [
    "### Validation set out of the training set"
   ]
  },
  {
   "cell_type": "code",
   "execution_count": 6,
   "id": "fc600ef3",
   "metadata": {
    "execution": {
     "iopub.execute_input": "2022-10-30T00:15:21.345480Z",
     "iopub.status.busy": "2022-10-30T00:15:21.344442Z",
     "iopub.status.idle": "2022-10-30T00:15:21.365564Z",
     "shell.execute_reply": "2022-10-30T00:15:21.364554Z"
    },
    "papermill": {
     "duration": 0.032222,
     "end_time": "2022-10-30T00:15:21.367886",
     "exception": false,
     "start_time": "2022-10-30T00:15:21.335664",
     "status": "completed"
    },
    "tags": []
   },
   "outputs": [
    {
     "data": {
      "text/html": [
       "<div>\n",
       "<style scoped>\n",
       "    .dataframe tbody tr th:only-of-type {\n",
       "        vertical-align: middle;\n",
       "    }\n",
       "\n",
       "    .dataframe tbody tr th {\n",
       "        vertical-align: top;\n",
       "    }\n",
       "\n",
       "    .dataframe thead th {\n",
       "        text-align: right;\n",
       "    }\n",
       "</style>\n",
       "<table border=\"1\" class=\"dataframe\">\n",
       "  <thead>\n",
       "    <tr style=\"text-align: right;\">\n",
       "      <th></th>\n",
       "      <th>id</th>\n",
       "      <th>premise</th>\n",
       "      <th>hypothesis</th>\n",
       "      <th>lang_abv</th>\n",
       "      <th>language</th>\n",
       "      <th>label</th>\n",
       "    </tr>\n",
       "  </thead>\n",
       "  <tbody>\n",
       "    <tr>\n",
       "      <th>5918</th>\n",
       "      <td>58817ac035</td>\n",
       "      <td>Bir Fransız salonundaki pervazların arabeskler...</td>\n",
       "      <td>Kadınların giysilerinde büyük uzun kurdeleler ...</td>\n",
       "      <td>tr</td>\n",
       "      <td>Turkish</td>\n",
       "      <td>1</td>\n",
       "    </tr>\n",
       "    <tr>\n",
       "      <th>11325</th>\n",
       "      <td>ea87264b91</td>\n",
       "      <td>year, they gave morethan a half million dollar...</td>\n",
       "      <td>They make annual donations to legal services.</td>\n",
       "      <td>en</td>\n",
       "      <td>English</td>\n",
       "      <td>1</td>\n",
       "    </tr>\n",
       "    <tr>\n",
       "      <th>10820</th>\n",
       "      <td>0906d4f661</td>\n",
       "      <td>Όχι, γεννήθηκε το 1900 επειδή ήταν 16 ετών, κα...</td>\n",
       "      <td>γενήθηκε στην αλλαγή του αιώνα.</td>\n",
       "      <td>el</td>\n",
       "      <td>Greek</td>\n",
       "      <td>0</td>\n",
       "    </tr>\n",
       "    <tr>\n",
       "      <th>7254</th>\n",
       "      <td>45b0dda4ad</td>\n",
       "      <td>Continue along the Quai Saint-Nicolas to the M...</td>\n",
       "      <td>There are houses only from the 10th century on...</td>\n",
       "      <td>en</td>\n",
       "      <td>English</td>\n",
       "      <td>2</td>\n",
       "    </tr>\n",
       "    <tr>\n",
       "      <th>7210</th>\n",
       "      <td>165f1529a7</td>\n",
       "      <td>The new rights are nice enough</td>\n",
       "      <td>Everyone really likes the newest benefits</td>\n",
       "      <td>en</td>\n",
       "      <td>English</td>\n",
       "      <td>1</td>\n",
       "    </tr>\n",
       "    <tr>\n",
       "      <th>...</th>\n",
       "      <td>...</td>\n",
       "      <td>...</td>\n",
       "      <td>...</td>\n",
       "      <td>...</td>\n",
       "      <td>...</td>\n",
       "      <td>...</td>\n",
       "    </tr>\n",
       "    <tr>\n",
       "      <th>6384</th>\n",
       "      <td>6ce715093c</td>\n",
       "      <td>Morrison se ha ganado el derecho a ser tan idi...</td>\n",
       "      <td>Gaddis y Pynchon no son tan idiosincráticos co...</td>\n",
       "      <td>es</td>\n",
       "      <td>Spanish</td>\n",
       "      <td>2</td>\n",
       "    </tr>\n",
       "    <tr>\n",
       "      <th>4720</th>\n",
       "      <td>838784c0b2</td>\n",
       "      <td>Postal Service could increase those same rates...</td>\n",
       "      <td>The rates could go up by 13 during a Postal Se...</td>\n",
       "      <td>en</td>\n",
       "      <td>English</td>\n",
       "      <td>0</td>\n",
       "    </tr>\n",
       "    <tr>\n",
       "      <th>173</th>\n",
       "      <td>cfcc3db071</td>\n",
       "      <td>Περιπλανηθείτε στους ορόφους και μιλήστε στους...</td>\n",
       "      <td>Οι ηθοποιοί πληρώνονται δέκα δολάρια την ημέρα...</td>\n",
       "      <td>el</td>\n",
       "      <td>Greek</td>\n",
       "      <td>1</td>\n",
       "    </tr>\n",
       "    <tr>\n",
       "      <th>1244</th>\n",
       "      <td>9850f913bc</td>\n",
       "      <td>في الاحتجاز ، ينفي KSM أن القاعدة لديها أي عمل...</td>\n",
       "      <td>كان للقاعدة ثلاثة عملاء يعملون في أريزونا.</td>\n",
       "      <td>ar</td>\n",
       "      <td>Arabic</td>\n",
       "      <td>1</td>\n",
       "    </tr>\n",
       "    <tr>\n",
       "      <th>4989</th>\n",
       "      <td>e9d596383f</td>\n",
       "      <td>Also, I will be assuming that the 6.0a cost of...</td>\n",
       "      <td>I will make no assumptions about the costs to ...</td>\n",
       "      <td>en</td>\n",
       "      <td>English</td>\n",
       "      <td>2</td>\n",
       "    </tr>\n",
       "  </tbody>\n",
       "</table>\n",
       "<p>10908 rows × 6 columns</p>\n",
       "</div>"
      ],
      "text/plain": [
       "               id                                            premise  \\\n",
       "5918   58817ac035  Bir Fransız salonundaki pervazların arabeskler...   \n",
       "11325  ea87264b91  year, they gave morethan a half million dollar...   \n",
       "10820  0906d4f661  Όχι, γεννήθηκε το 1900 επειδή ήταν 16 ετών, κα...   \n",
       "7254   45b0dda4ad  Continue along the Quai Saint-Nicolas to the M...   \n",
       "7210   165f1529a7                     The new rights are nice enough   \n",
       "...           ...                                                ...   \n",
       "6384   6ce715093c  Morrison se ha ganado el derecho a ser tan idi...   \n",
       "4720   838784c0b2  Postal Service could increase those same rates...   \n",
       "173    cfcc3db071  Περιπλανηθείτε στους ορόφους και μιλήστε στους...   \n",
       "1244   9850f913bc  في الاحتجاز ، ينفي KSM أن القاعدة لديها أي عمل...   \n",
       "4989   e9d596383f  Also, I will be assuming that the 6.0a cost of...   \n",
       "\n",
       "                                              hypothesis lang_abv language  \\\n",
       "5918   Kadınların giysilerinde büyük uzun kurdeleler ...       tr  Turkish   \n",
       "11325      They make annual donations to legal services.       en  English   \n",
       "10820                    γενήθηκε στην αλλαγή του αιώνα.       el    Greek   \n",
       "7254   There are houses only from the 10th century on...       en  English   \n",
       "7210          Everyone really likes the newest benefits        en  English   \n",
       "...                                                  ...      ...      ...   \n",
       "6384   Gaddis y Pynchon no son tan idiosincráticos co...       es  Spanish   \n",
       "4720   The rates could go up by 13 during a Postal Se...       en  English   \n",
       "173    Οι ηθοποιοί πληρώνονται δέκα δολάρια την ημέρα...       el    Greek   \n",
       "1244          كان للقاعدة ثلاثة عملاء يعملون في أريزونا.       ar   Arabic   \n",
       "4989   I will make no assumptions about the costs to ...       en  English   \n",
       "\n",
       "       label  \n",
       "5918       1  \n",
       "11325      1  \n",
       "10820      0  \n",
       "7254       2  \n",
       "7210       1  \n",
       "...      ...  \n",
       "6384       2  \n",
       "4720       0  \n",
       "173        1  \n",
       "1244       1  \n",
       "4989       2  \n",
       "\n",
       "[10908 rows x 6 columns]"
      ]
     },
     "execution_count": 6,
     "metadata": {},
     "output_type": "execute_result"
    }
   ],
   "source": [
    "train, validation = train_test_split(train, train_size=0.9, shuffle=True, random_state=seed_val)\n",
    "train"
   ]
  },
  {
   "cell_type": "markdown",
   "id": "09811401",
   "metadata": {
    "papermill": {
     "duration": 0.006859,
     "end_time": "2022-10-30T00:15:21.381720",
     "exception": false,
     "start_time": "2022-10-30T00:15:21.374861",
     "status": "completed"
    },
    "tags": []
   },
   "source": [
    "### Data Augmentation"
   ]
  },
  {
   "cell_type": "code",
   "execution_count": 7,
   "id": "30d19d6e",
   "metadata": {
    "execution": {
     "iopub.execute_input": "2022-10-30T00:15:21.397953Z",
     "iopub.status.busy": "2022-10-30T00:15:21.396972Z",
     "iopub.status.idle": "2022-10-30T00:15:39.704852Z",
     "shell.execute_reply": "2022-10-30T00:15:39.703377Z"
    },
    "papermill": {
     "duration": 18.320276,
     "end_time": "2022-10-30T00:15:39.709052",
     "exception": false,
     "start_time": "2022-10-30T00:15:21.388776",
     "status": "completed"
    },
    "tags": []
   },
   "outputs": [
    {
     "name": "stdout",
     "output_type": "stream",
     "text": [
      "Collecting translators\r\n",
      "  Downloading translators-5.4.8-py3-none-any.whl (30 kB)\r\n",
      "Requirement already satisfied: lxml>=4.9.1 in /opt/conda/lib/python3.7/site-packages (from translators) (4.9.1)\r\n",
      "Requirement already satisfied: pathos>=0.2.9 in /opt/conda/lib/python3.7/site-packages (from translators) (0.2.9)\r\n",
      "Collecting PyExecJS>=1.5.1\r\n",
      "  Downloading PyExecJS-1.5.1.tar.gz (13 kB)\r\n",
      "  Preparing metadata (setup.py) ... \u001b[?25l-\b \bdone\r\n",
      "\u001b[?25hCollecting cryptography>=38.0.1\r\n",
      "  Downloading cryptography-38.0.1-cp36-abi3-manylinux_2_28_x86_64.whl (4.2 MB)\r\n",
      "\u001b[2K     \u001b[90m━━━━━━━━━━━━━━━━━━━━━━━━━━━━━━━━━━━━━━━━\u001b[0m \u001b[32m4.2/4.2 MB\u001b[0m \u001b[31m3.5 MB/s\u001b[0m eta \u001b[36m0:00:00\u001b[0m\r\n",
      "\u001b[?25hRequirement already satisfied: requests>=2.28.1 in /opt/conda/lib/python3.7/site-packages (from translators) (2.28.1)\r\n",
      "Requirement already satisfied: cffi>=1.12 in /opt/conda/lib/python3.7/site-packages (from cryptography>=38.0.1->translators) (1.15.0)\r\n",
      "Requirement already satisfied: dill>=0.3.5.1 in /opt/conda/lib/python3.7/site-packages (from pathos>=0.2.9->translators) (0.3.5.1)\r\n",
      "Requirement already satisfied: pox>=0.3.1 in /opt/conda/lib/python3.7/site-packages (from pathos>=0.2.9->translators) (0.3.1)\r\n",
      "Requirement already satisfied: ppft>=1.7.6.5 in /opt/conda/lib/python3.7/site-packages (from pathos>=0.2.9->translators) (1.7.6.5)\r\n",
      "Requirement already satisfied: multiprocess>=0.70.13 in /opt/conda/lib/python3.7/site-packages (from pathos>=0.2.9->translators) (0.70.13)\r\n",
      "Requirement already satisfied: six>=1.10.0 in /opt/conda/lib/python3.7/site-packages (from PyExecJS>=1.5.1->translators) (1.15.0)\r\n",
      "Requirement already satisfied: certifi>=2017.4.17 in /opt/conda/lib/python3.7/site-packages (from requests>=2.28.1->translators) (2022.6.15.2)\r\n",
      "Requirement already satisfied: urllib3<1.27,>=1.21.1 in /opt/conda/lib/python3.7/site-packages (from requests>=2.28.1->translators) (1.26.12)\r\n",
      "Requirement already satisfied: idna<4,>=2.5 in /opt/conda/lib/python3.7/site-packages (from requests>=2.28.1->translators) (3.3)\r\n",
      "Requirement already satisfied: charset-normalizer<3,>=2 in /opt/conda/lib/python3.7/site-packages (from requests>=2.28.1->translators) (2.1.0)\r\n",
      "Requirement already satisfied: pycparser in /opt/conda/lib/python3.7/site-packages (from cffi>=1.12->cryptography>=38.0.1->translators) (2.21)\r\n",
      "Building wheels for collected packages: PyExecJS\r\n",
      "  Building wheel for PyExecJS (setup.py) ... \u001b[?25l-\b \b\\\b \bdone\r\n",
      "\u001b[?25h  Created wheel for PyExecJS: filename=PyExecJS-1.5.1-py3-none-any.whl size=14598 sha256=33f37704f1d3c3c41d12f8fe3dfab92a73e703a79b774dc1f8af87854ff7ef7f\r\n",
      "  Stored in directory: /root/.cache/pip/wheels/9a/ee/03/da5c0b4a8c13362beeb844eb913bbe58a89bde1de2b9157007\r\n",
      "Successfully built PyExecJS\r\n",
      "Installing collected packages: PyExecJS, cryptography, translators\r\n",
      "  Attempting uninstall: cryptography\r\n",
      "    Found existing installation: cryptography 37.0.2\r\n",
      "    Uninstalling cryptography-37.0.2:\r\n",
      "      Successfully uninstalled cryptography-37.0.2\r\n",
      "Successfully installed PyExecJS-1.5.1 cryptography-38.0.1 translators-5.4.8\r\n",
      "\u001b[33mWARNING: Running pip as the 'root' user can result in broken permissions and conflicting behaviour with the system package manager. It is recommended to use a virtual environment instead: https://pip.pypa.io/warnings/venv\u001b[0m\u001b[33m\r\n",
      "\u001b[0m"
     ]
    },
    {
     "name": "stderr",
     "output_type": "stream",
     "text": [
      "Using state New South Wales server backend.\n"
     ]
    }
   ],
   "source": [
    "!pip install translators --upgrade\n",
    "import translators as ts"
   ]
  },
  {
   "cell_type": "code",
   "execution_count": 8,
   "id": "ab08d4e4",
   "metadata": {
    "execution": {
     "iopub.execute_input": "2022-10-30T00:15:39.731391Z",
     "iopub.status.busy": "2022-10-30T00:15:39.731051Z",
     "iopub.status.idle": "2022-10-30T00:15:39.907516Z",
     "shell.execute_reply": "2022-10-30T00:15:39.906464Z"
    },
    "papermill": {
     "duration": 0.190137,
     "end_time": "2022-10-30T00:15:39.910292",
     "exception": false,
     "start_time": "2022-10-30T00:15:39.720155",
     "status": "completed"
    },
    "tags": []
   },
   "outputs": [],
   "source": [
    "import translators as ts \n",
    "from dask import bag, diagnostics"
   ]
  },
  {
   "cell_type": "code",
   "execution_count": 9,
   "id": "ff5a31b5",
   "metadata": {
    "execution": {
     "iopub.execute_input": "2022-10-30T00:15:39.931139Z",
     "iopub.status.busy": "2022-10-30T00:15:39.930817Z",
     "iopub.status.idle": "2022-10-30T00:15:39.957918Z",
     "shell.execute_reply": "2022-10-30T00:15:39.956930Z"
    },
    "papermill": {
     "duration": 0.04018,
     "end_time": "2022-10-30T00:15:39.960172",
     "exception": false,
     "start_time": "2022-10-30T00:15:39.919992",
     "status": "completed"
    },
    "tags": []
   },
   "outputs": [
    {
     "data": {
      "text/html": [
       "<div>\n",
       "<style scoped>\n",
       "    .dataframe tbody tr th:only-of-type {\n",
       "        vertical-align: middle;\n",
       "    }\n",
       "\n",
       "    .dataframe tbody tr th {\n",
       "        vertical-align: top;\n",
       "    }\n",
       "\n",
       "    .dataframe thead th {\n",
       "        text-align: right;\n",
       "    }\n",
       "</style>\n",
       "<table border=\"1\" class=\"dataframe\">\n",
       "  <thead>\n",
       "    <tr style=\"text-align: right;\">\n",
       "      <th></th>\n",
       "      <th>id</th>\n",
       "      <th>premise</th>\n",
       "      <th>hypothesis</th>\n",
       "      <th>lang_abv</th>\n",
       "      <th>language</th>\n",
       "      <th>label</th>\n",
       "    </tr>\n",
       "  </thead>\n",
       "  <tbody>\n",
       "    <tr>\n",
       "      <th>5918</th>\n",
       "      <td>58817ac035</td>\n",
       "      <td>Bir Fransız salonundaki pervazların arabeskler...</td>\n",
       "      <td>Kadınların giysilerinde büyük uzun kurdeleler ...</td>\n",
       "      <td>tr</td>\n",
       "      <td>Turkish</td>\n",
       "      <td>1</td>\n",
       "    </tr>\n",
       "    <tr>\n",
       "      <th>11325</th>\n",
       "      <td>ea87264b91</td>\n",
       "      <td>year, they gave morethan a half million dollar...</td>\n",
       "      <td>They make annual donations to legal services.</td>\n",
       "      <td>en</td>\n",
       "      <td>English</td>\n",
       "      <td>1</td>\n",
       "    </tr>\n",
       "    <tr>\n",
       "      <th>10820</th>\n",
       "      <td>0906d4f661</td>\n",
       "      <td>Όχι, γεννήθηκε το 1900 επειδή ήταν 16 ετών, κα...</td>\n",
       "      <td>γενήθηκε στην αλλαγή του αιώνα.</td>\n",
       "      <td>el</td>\n",
       "      <td>Greek</td>\n",
       "      <td>0</td>\n",
       "    </tr>\n",
       "    <tr>\n",
       "      <th>7254</th>\n",
       "      <td>45b0dda4ad</td>\n",
       "      <td>Continue along the Quai Saint-Nicolas to the M...</td>\n",
       "      <td>There are houses only from the 10th century on...</td>\n",
       "      <td>en</td>\n",
       "      <td>English</td>\n",
       "      <td>2</td>\n",
       "    </tr>\n",
       "    <tr>\n",
       "      <th>7210</th>\n",
       "      <td>165f1529a7</td>\n",
       "      <td>The new rights are nice enough</td>\n",
       "      <td>Everyone really likes the newest benefits</td>\n",
       "      <td>en</td>\n",
       "      <td>English</td>\n",
       "      <td>1</td>\n",
       "    </tr>\n",
       "    <tr>\n",
       "      <th>...</th>\n",
       "      <td>...</td>\n",
       "      <td>...</td>\n",
       "      <td>...</td>\n",
       "      <td>...</td>\n",
       "      <td>...</td>\n",
       "      <td>...</td>\n",
       "    </tr>\n",
       "    <tr>\n",
       "      <th>6384</th>\n",
       "      <td>6ce715093c</td>\n",
       "      <td>Morrison se ha ganado el derecho a ser tan idi...</td>\n",
       "      <td>Gaddis y Pynchon no son tan idiosincráticos co...</td>\n",
       "      <td>es</td>\n",
       "      <td>Spanish</td>\n",
       "      <td>2</td>\n",
       "    </tr>\n",
       "    <tr>\n",
       "      <th>4720</th>\n",
       "      <td>838784c0b2</td>\n",
       "      <td>Postal Service could increase those same rates...</td>\n",
       "      <td>The rates could go up by 13 during a Postal Se...</td>\n",
       "      <td>en</td>\n",
       "      <td>English</td>\n",
       "      <td>0</td>\n",
       "    </tr>\n",
       "    <tr>\n",
       "      <th>173</th>\n",
       "      <td>cfcc3db071</td>\n",
       "      <td>Περιπλανηθείτε στους ορόφους και μιλήστε στους...</td>\n",
       "      <td>Οι ηθοποιοί πληρώνονται δέκα δολάρια την ημέρα...</td>\n",
       "      <td>el</td>\n",
       "      <td>Greek</td>\n",
       "      <td>1</td>\n",
       "    </tr>\n",
       "    <tr>\n",
       "      <th>1244</th>\n",
       "      <td>9850f913bc</td>\n",
       "      <td>في الاحتجاز ، ينفي KSM أن القاعدة لديها أي عمل...</td>\n",
       "      <td>كان للقاعدة ثلاثة عملاء يعملون في أريزونا.</td>\n",
       "      <td>ar</td>\n",
       "      <td>Arabic</td>\n",
       "      <td>1</td>\n",
       "    </tr>\n",
       "    <tr>\n",
       "      <th>4989</th>\n",
       "      <td>e9d596383f</td>\n",
       "      <td>Also, I will be assuming that the 6.0a cost of...</td>\n",
       "      <td>I will make no assumptions about the costs to ...</td>\n",
       "      <td>en</td>\n",
       "      <td>English</td>\n",
       "      <td>2</td>\n",
       "    </tr>\n",
       "  </tbody>\n",
       "</table>\n",
       "<p>10908 rows × 6 columns</p>\n",
       "</div>"
      ],
      "text/plain": [
       "               id                                            premise  \\\n",
       "5918   58817ac035  Bir Fransız salonundaki pervazların arabeskler...   \n",
       "11325  ea87264b91  year, they gave morethan a half million dollar...   \n",
       "10820  0906d4f661  Όχι, γεννήθηκε το 1900 επειδή ήταν 16 ετών, κα...   \n",
       "7254   45b0dda4ad  Continue along the Quai Saint-Nicolas to the M...   \n",
       "7210   165f1529a7                     The new rights are nice enough   \n",
       "...           ...                                                ...   \n",
       "6384   6ce715093c  Morrison se ha ganado el derecho a ser tan idi...   \n",
       "4720   838784c0b2  Postal Service could increase those same rates...   \n",
       "173    cfcc3db071  Περιπλανηθείτε στους ορόφους και μιλήστε στους...   \n",
       "1244   9850f913bc  في الاحتجاز ، ينفي KSM أن القاعدة لديها أي عمل...   \n",
       "4989   e9d596383f  Also, I will be assuming that the 6.0a cost of...   \n",
       "\n",
       "                                              hypothesis lang_abv language  \\\n",
       "5918   Kadınların giysilerinde büyük uzun kurdeleler ...       tr  Turkish   \n",
       "11325      They make annual donations to legal services.       en  English   \n",
       "10820                    γενήθηκε στην αλλαγή του αιώνα.       el    Greek   \n",
       "7254   There are houses only from the 10th century on...       en  English   \n",
       "7210          Everyone really likes the newest benefits        en  English   \n",
       "...                                                  ...      ...      ...   \n",
       "6384   Gaddis y Pynchon no son tan idiosincráticos co...       es  Spanish   \n",
       "4720   The rates could go up by 13 during a Postal Se...       en  English   \n",
       "173    Οι ηθοποιοί πληρώνονται δέκα δολάρια την ημέρα...       el    Greek   \n",
       "1244          كان للقاعدة ثلاثة عملاء يعملون في أريزونا.       ar   Arabic   \n",
       "4989   I will make no assumptions about the costs to ...       en  English   \n",
       "\n",
       "       label  \n",
       "5918       1  \n",
       "11325      1  \n",
       "10820      0  \n",
       "7254       2  \n",
       "7210       1  \n",
       "...      ...  \n",
       "6384       2  \n",
       "4720       0  \n",
       "173        1  \n",
       "1244       1  \n",
       "4989       2  \n",
       "\n",
       "[10908 rows x 6 columns]"
      ]
     },
     "metadata": {},
     "output_type": "display_data"
    },
    {
     "data": {
      "text/plain": [
       "en    6177\n",
       "zh     370\n",
       "fr     354\n",
       "ar     343\n",
       "ru     342\n",
       "el     341\n",
       "th     340\n",
       "ur     340\n",
       "vi     339\n",
       "hi     338\n",
       "es     338\n",
       "sw     337\n",
       "tr     323\n",
       "de     319\n",
       "bg     307\n",
       "Name: lang_abv, dtype: int64"
      ]
     },
     "metadata": {},
     "output_type": "display_data"
    }
   ],
   "source": [
    "display(train, train.lang_abv.value_counts())"
   ]
  },
  {
   "cell_type": "code",
   "execution_count": 10,
   "id": "9fe46524",
   "metadata": {
    "execution": {
     "iopub.execute_input": "2022-10-30T00:15:39.982117Z",
     "iopub.status.busy": "2022-10-30T00:15:39.981133Z",
     "iopub.status.idle": "2022-10-30T00:15:39.987737Z",
     "shell.execute_reply": "2022-10-30T00:15:39.986839Z"
    },
    "papermill": {
     "duration": 0.019528,
     "end_time": "2022-10-30T00:15:39.989901",
     "exception": false,
     "start_time": "2022-10-30T00:15:39.970373",
     "status": "completed"
    },
    "tags": []
   },
   "outputs": [],
   "source": [
    "import timeit\n",
    "import time\n",
    "from functools import wraps\n",
    "def timeit(func):\n",
    "    @wraps(func)\n",
    "    def timeit_wrapper(*args, **kwargs):\n",
    "        start_time = time.perf_counter()\n",
    "        result = func(*args, **kwargs)\n",
    "        end_time = time.perf_counter()\n",
    "        total_time = end_time - start_time\n",
    "#         print(f'Function {func.__name__}{args} {kwargs} Took {total_time:.4f} seconds')\n",
    "        return result\n",
    "    return timeit_wrapper"
   ]
  },
  {
   "cell_type": "code",
   "execution_count": 11,
   "id": "f5700941",
   "metadata": {
    "execution": {
     "iopub.execute_input": "2022-10-30T00:15:40.011921Z",
     "iopub.status.busy": "2022-10-30T00:15:40.010989Z",
     "iopub.status.idle": "2022-10-30T00:15:40.019226Z",
     "shell.execute_reply": "2022-10-30T00:15:40.018320Z"
    },
    "papermill": {
     "duration": 0.021527,
     "end_time": "2022-10-30T00:15:40.021310",
     "exception": false,
     "start_time": "2022-10-30T00:15:39.999783",
     "status": "completed"
    },
    "scrolled": true,
    "tags": []
   },
   "outputs": [],
   "source": [
    "@timeit\n",
    "def translate(words, dest):\n",
    "    decoded = ts.google(query_text=words, to_language=dest)\n",
    "    return decoded\n",
    "\n",
    "\n",
    "#TODO: use a dask dataframe instead of all this\n",
    "def trans_parallel(df, dest):\n",
    "    dest_choices = ['zh-CN','ar','fr','sw','ur','vi','ru','hi','el','th','es','de','tr','bg']\n",
    "    if not dest:\n",
    "        dest = np.random.choice(dest_choices)\n",
    "    premise_bag = bag.from_sequence(df.premise.tolist()).map(translate, dest)\n",
    "    hypo_bag =  bag.from_sequence(df.hypothesis.tolist()).map(translate, dest)\n",
    "    with diagnostics.ProgressBar():\n",
    "        premises = premise_bag.compute()\n",
    "        hypos = hypo_bag.compute()\n",
    "    df[['premise', 'hypothesis']] = list(zip(premises, hypos))\n",
    "    return df\n",
    "\n"
   ]
  },
  {
   "cell_type": "code",
   "execution_count": 12,
   "id": "7ff2bf06",
   "metadata": {
    "execution": {
     "iopub.execute_input": "2022-10-30T00:15:40.043506Z",
     "iopub.status.busy": "2022-10-30T00:15:40.042578Z",
     "iopub.status.idle": "2022-10-30T01:38:06.077290Z",
     "shell.execute_reply": "2022-10-30T01:38:06.075170Z"
    },
    "papermill": {
     "duration": 4946.04815,
     "end_time": "2022-10-30T01:38:06.079579",
     "exception": false,
     "start_time": "2022-10-30T00:15:40.031429",
     "status": "completed"
    },
    "scrolled": true,
    "tags": []
   },
   "outputs": [
    {
     "name": "stdout",
     "output_type": "stream",
     "text": [
      "[########################################] | 100% Completed | 21min 12.6s\n",
      "[                                        ] | 0% Completed |  0.0s"
     ]
    },
    {
     "name": "stderr",
     "output_type": "stream",
     "text": [
      "Using state New South Wales server backend.\n",
      "Using state New South Wales server backend.\n"
     ]
    },
    {
     "name": "stdout",
     "output_type": "stream",
     "text": [
      "[########################################] | 100% Completed | 21min  5.3s\n",
      "[                                        ] | 0% Completed |  0.0s"
     ]
    },
    {
     "name": "stderr",
     "output_type": "stream",
     "text": [
      "Using state New South Wales server backend.\n",
      "Using state New South Wales server backend.\n"
     ]
    },
    {
     "name": "stdout",
     "output_type": "stream",
     "text": [
      "[########################################] | 100% Completed | 20min 20.8s\n",
      "[                                        ] | 0% Completed |  0.0s"
     ]
    },
    {
     "name": "stderr",
     "output_type": "stream",
     "text": [
      "Using state New South Wales server backend.\n",
      "Using state New South Wales server backend.\n"
     ]
    },
    {
     "name": "stdout",
     "output_type": "stream",
     "text": [
      "[########################################] | 100% Completed | 19min 46.8s\n"
     ]
    },
    {
     "name": "stderr",
     "output_type": "stream",
     "text": [
      "Using state New South Wales server backend.\n",
      "Using state New South Wales server backend.\n"
     ]
    }
   ],
   "source": [
    "eng = train.loc[train.lang_abv == \"en\"].iloc[:1000].copy() \\\n",
    "           .pipe(trans_parallel, dest=None)\n",
    "\n",
    "non_eng = train.loc[train.lang_abv != \"en\"].iloc[:1000].copy() \\\n",
    "        .pipe(trans_parallel, dest='en')"
   ]
  },
  {
   "cell_type": "code",
   "execution_count": 13,
   "id": "c4fa2e6d",
   "metadata": {
    "execution": {
     "iopub.execute_input": "2022-10-30T01:38:11.412941Z",
     "iopub.status.busy": "2022-10-30T01:38:11.412551Z",
     "iopub.status.idle": "2022-10-30T01:38:11.436114Z",
     "shell.execute_reply": "2022-10-30T01:38:11.435210Z"
    },
    "papermill": {
     "duration": 2.636229,
     "end_time": "2022-10-30T01:38:11.438388",
     "exception": false,
     "start_time": "2022-10-30T01:38:08.802159",
     "status": "completed"
    },
    "tags": []
   },
   "outputs": [],
   "source": [
    "eng.to_csv(\"train_aug_eng.csv\")\n",
    "non_eng.to_csv(\"train_aug_non_eng.csv\")\n",
    "train = train.append([eng, non_eng]).reset_index(drop=True)"
   ]
  },
  {
   "cell_type": "code",
   "execution_count": 14,
   "id": "668f004b",
   "metadata": {
    "execution": {
     "iopub.execute_input": "2022-10-30T01:38:16.956451Z",
     "iopub.status.busy": "2022-10-30T01:38:16.955891Z",
     "iopub.status.idle": "2022-10-30T01:38:16.973588Z",
     "shell.execute_reply": "2022-10-30T01:38:16.972505Z"
    },
    "papermill": {
     "duration": 2.702605,
     "end_time": "2022-10-30T01:38:16.975932",
     "exception": false,
     "start_time": "2022-10-30T01:38:14.273327",
     "status": "completed"
    },
    "tags": []
   },
   "outputs": [
    {
     "data": {
      "text/html": [
       "<div>\n",
       "<style scoped>\n",
       "    .dataframe tbody tr th:only-of-type {\n",
       "        vertical-align: middle;\n",
       "    }\n",
       "\n",
       "    .dataframe tbody tr th {\n",
       "        vertical-align: top;\n",
       "    }\n",
       "\n",
       "    .dataframe thead th {\n",
       "        text-align: right;\n",
       "    }\n",
       "</style>\n",
       "<table border=\"1\" class=\"dataframe\">\n",
       "  <thead>\n",
       "    <tr style=\"text-align: right;\">\n",
       "      <th></th>\n",
       "      <th>id</th>\n",
       "      <th>premise</th>\n",
       "      <th>hypothesis</th>\n",
       "      <th>lang_abv</th>\n",
       "      <th>language</th>\n",
       "      <th>label</th>\n",
       "    </tr>\n",
       "  </thead>\n",
       "  <tbody>\n",
       "    <tr>\n",
       "      <th>11325</th>\n",
       "      <td>ea87264b91</td>\n",
       "      <td>Година те дадоха повече от половин милион дола...</td>\n",
       "      <td>Те правят годишни дарения за правни услуги.</td>\n",
       "      <td>en</td>\n",
       "      <td>English</td>\n",
       "      <td>1</td>\n",
       "    </tr>\n",
       "    <tr>\n",
       "      <th>7254</th>\n",
       "      <td>45b0dda4ad</td>\n",
       "      <td>Продължете по протежение на Quai Saint-Nicolas...</td>\n",
       "      <td>Има къщи само от 10 век на Quai.</td>\n",
       "      <td>en</td>\n",
       "      <td>English</td>\n",
       "      <td>2</td>\n",
       "    </tr>\n",
       "    <tr>\n",
       "      <th>7210</th>\n",
       "      <td>165f1529a7</td>\n",
       "      <td>Новите права са достатъчно хубави</td>\n",
       "      <td>Всички наистина харесват най -новите предимства</td>\n",
       "      <td>en</td>\n",
       "      <td>English</td>\n",
       "      <td>1</td>\n",
       "    </tr>\n",
       "    <tr>\n",
       "      <th>8490</th>\n",
       "      <td>997f6f7d3c</td>\n",
       "      <td>Да и след това на всеки пет години трябва да г...</td>\n",
       "      <td>Те продължават вечно.</td>\n",
       "      <td>en</td>\n",
       "      <td>English</td>\n",
       "      <td>2</td>\n",
       "    </tr>\n",
       "    <tr>\n",
       "      <th>9934</th>\n",
       "      <td>d349c3ef63</td>\n",
       "      <td>Прекарах няколко години в услугата като анализ...</td>\n",
       "      <td>Бях анализатор на разузнаването от доста време.</td>\n",
       "      <td>en</td>\n",
       "      <td>English</td>\n",
       "      <td>0</td>\n",
       "    </tr>\n",
       "    <tr>\n",
       "      <th>...</th>\n",
       "      <td>...</td>\n",
       "      <td>...</td>\n",
       "      <td>...</td>\n",
       "      <td>...</td>\n",
       "      <td>...</td>\n",
       "      <td>...</td>\n",
       "    </tr>\n",
       "    <tr>\n",
       "      <th>5283</th>\n",
       "      <td>6f1277e3f5</td>\n",
       "      <td>Втората половина на книгата се занимаваше с из...</td>\n",
       "      <td>Първата част се занимава с използването на фал...</td>\n",
       "      <td>en</td>\n",
       "      <td>English</td>\n",
       "      <td>1</td>\n",
       "    </tr>\n",
       "    <tr>\n",
       "      <th>1819</th>\n",
       "      <td>b607c97e57</td>\n",
       "      <td>Тук се предполага, че други функционални компо...</td>\n",
       "      <td>Предполага се, че пощенската услуга няма значи...</td>\n",
       "      <td>en</td>\n",
       "      <td>English</td>\n",
       "      <td>0</td>\n",
       "    </tr>\n",
       "    <tr>\n",
       "      <th>6586</th>\n",
       "      <td>15a62aef3d</td>\n",
       "      <td>Той твърди, че районът е благословен с най -ви...</td>\n",
       "      <td>Той говореше зле за естествените характеристик...</td>\n",
       "      <td>en</td>\n",
       "      <td>English</td>\n",
       "      <td>2</td>\n",
       "    </tr>\n",
       "    <tr>\n",
       "      <th>2284</th>\n",
       "      <td>0c1d674391</td>\n",
       "      <td>Китайският календар беше използван за изчисляв...</td>\n",
       "      <td>Изчисляването на годината на фондацията на Япо...</td>\n",
       "      <td>en</td>\n",
       "      <td>English</td>\n",
       "      <td>1</td>\n",
       "    </tr>\n",
       "    <tr>\n",
       "      <th>706</th>\n",
       "      <td>28ef65c2d3</td>\n",
       "      <td>Да и какво ще кажете какво ще кажете за това п...</td>\n",
       "      <td>Спортувате ли през уикенда или ходите в зоопарка?</td>\n",
       "      <td>en</td>\n",
       "      <td>English</td>\n",
       "      <td>1</td>\n",
       "    </tr>\n",
       "  </tbody>\n",
       "</table>\n",
       "<p>1000 rows × 6 columns</p>\n",
       "</div>"
      ],
      "text/plain": [
       "               id                                            premise  \\\n",
       "11325  ea87264b91  Година те дадоха повече от половин милион дола...   \n",
       "7254   45b0dda4ad  Продължете по протежение на Quai Saint-Nicolas...   \n",
       "7210   165f1529a7                  Новите права са достатъчно хубави   \n",
       "8490   997f6f7d3c  Да и след това на всеки пет години трябва да г...   \n",
       "9934   d349c3ef63  Прекарах няколко години в услугата като анализ...   \n",
       "...           ...                                                ...   \n",
       "5283   6f1277e3f5  Втората половина на книгата се занимаваше с из...   \n",
       "1819   b607c97e57  Тук се предполага, че други функционални компо...   \n",
       "6586   15a62aef3d  Той твърди, че районът е благословен с най -ви...   \n",
       "2284   0c1d674391  Китайският календар беше използван за изчисляв...   \n",
       "706    28ef65c2d3  Да и какво ще кажете какво ще кажете за това п...   \n",
       "\n",
       "                                              hypothesis lang_abv language  \\\n",
       "11325        Те правят годишни дарения за правни услуги.       en  English   \n",
       "7254                    Има къщи само от 10 век на Quai.       en  English   \n",
       "7210     Всички наистина харесват най -новите предимства       en  English   \n",
       "8490                               Те продължават вечно.       en  English   \n",
       "9934     Бях анализатор на разузнаването от доста време.       en  English   \n",
       "...                                                  ...      ...      ...   \n",
       "5283   Първата част се занимава с използването на фал...       en  English   \n",
       "1819   Предполага се, че пощенската услуга няма значи...       en  English   \n",
       "6586   Той говореше зле за естествените характеристик...       en  English   \n",
       "2284   Изчисляването на годината на фондацията на Япо...       en  English   \n",
       "706    Спортувате ли през уикенда или ходите в зоопарка?       en  English   \n",
       "\n",
       "       label  \n",
       "11325      1  \n",
       "7254       2  \n",
       "7210       1  \n",
       "8490       2  \n",
       "9934       0  \n",
       "...      ...  \n",
       "5283       1  \n",
       "1819       0  \n",
       "6586       2  \n",
       "2284       1  \n",
       "706        1  \n",
       "\n",
       "[1000 rows x 6 columns]"
      ]
     },
     "execution_count": 14,
     "metadata": {},
     "output_type": "execute_result"
    }
   ],
   "source": [
    "eng"
   ]
  },
  {
   "cell_type": "markdown",
   "id": "2dc62306",
   "metadata": {
    "papermill": {
     "duration": 2.642189,
     "end_time": "2022-10-30T01:38:22.214739",
     "exception": false,
     "start_time": "2022-10-30T01:38:19.572550",
     "status": "completed"
    },
    "tags": []
   },
   "source": []
  },
  {
   "cell_type": "code",
   "execution_count": 15,
   "id": "f3c0cde9",
   "metadata": {
    "execution": {
     "iopub.execute_input": "2022-10-30T01:38:27.726433Z",
     "iopub.status.busy": "2022-10-30T01:38:27.725869Z",
     "iopub.status.idle": "2022-10-30T01:38:27.741202Z",
     "shell.execute_reply": "2022-10-30T01:38:27.740323Z"
    },
    "papermill": {
     "duration": 2.80464,
     "end_time": "2022-10-30T01:38:27.743265",
     "exception": false,
     "start_time": "2022-10-30T01:38:24.938625",
     "status": "completed"
    },
    "tags": []
   },
   "outputs": [],
   "source": [
    "class CompDataset(Dataset):\n",
    "\n",
    "    def __init__(self, df):\n",
    "        self.df_data = df\n",
    "        \n",
    "    def __getitem__(self, index):\n",
    "        # get the sentence from the dataframe\n",
    "        sentence1 = self.df_data.iloc[index]['premise']\n",
    "        sentence2 = self.df_data.iloc[index]['hypothesis']\n",
    "\n",
    "        # Process the sentence\n",
    "        encoded_dict = tokenizer.encode_plus(\n",
    "                    sentence1, sentence2,           # Sentences to encode.\n",
    "                    add_special_tokens = True,      # Add '[CLS]' and '[SEP]'\n",
    "                    max_length = MAX_LEN,           # Pad or truncate all sentences.\n",
    "                    pad_to_max_length = True,\n",
    "                    return_attention_mask = True,   # Construct attn. masks.\n",
    "                    return_tensors = 'pt',          # Return pytorch tensors.\n",
    "               )  \n",
    "        \n",
    "        # These are torch tensors already.\n",
    "        padded_token_list = encoded_dict['input_ids'][0]\n",
    "        att_mask = encoded_dict['attention_mask'][0]\n",
    "        \n",
    "        # Convert the target to a torch tensor\n",
    "        target = torch.tensor(self.df_data.loc[index, 'label'])\n",
    "        sample = (padded_token_list, att_mask, target)\n",
    "        \n",
    "        return sample\n",
    "\n",
    "    def __len__(self):\n",
    "        return len(self.df_data)\n",
    "    \n",
    "class TestDataset(Dataset):\n",
    "\n",
    "    def __init__(self, df):\n",
    "        self.df_data = df\n",
    "\n",
    "    def __getitem__(self, index):\n",
    "\n",
    "        # get the sentence from the dataframe\n",
    "        sentence1 = self.df_data.iloc[index]['premise']\n",
    "        sentence2 = self.df_data.iloc[index]['hypothesis']\n",
    "\n",
    "        # Process the sentence\n",
    "        encoded_dict = tokenizer.encode_plus(\n",
    "                    sentence1, sentence2,           # Sentence to encode.\n",
    "                    add_special_tokens = True,      # Add '[CLS] [\\s' and '[SEP] \\s'\n",
    "                    max_length = MAX_LEN,           # Pad or truncate all sentences.\n",
    "                    pad_to_max_length = True,\n",
    "                    return_attention_mask = True,   # Construct attn. masks.\n",
    "                    return_tensors = 'pt',          # Return pytorch tensors.\n",
    "               )\n",
    "        \n",
    "        # These are torch tensors already.\n",
    "        padded_token_list = encoded_dict['input_ids'][0]\n",
    "        att_mask = encoded_dict['attention_mask'][0]\n",
    "    \n",
    "        sample = (padded_token_list, att_mask)\n",
    "\n",
    "        return sample\n",
    "    \n",
    "    def __len__(self):\n",
    "        return len(self.df_data)\n",
    "    \n",
    "train.reset_index(drop=True, inplace=True)\n",
    "validation.reset_index(drop=True, inplace=True)\n",
    "test.reset_index(drop=True, inplace=True)\n",
    "\n",
    "train_data = CompDataset(train)\n",
    "val_data = CompDataset(validation)\n",
    "test_data = TestDataset(test)\n",
    "\n",
    "train_dataloader = torch.utils.data.DataLoader(train_data,\n",
    "                                        batch_size=BATCH_SIZE,\n",
    "                                        shuffle=True,\n",
    "                                        num_workers=NUM_CORES)\n",
    "val_dataloader = torch.utils.data.DataLoader(val_data,\n",
    "                                        batch_size=BATCH_SIZE,\n",
    "                                        shuffle=True,\n",
    "                                        num_workers=NUM_CORES)\n",
    "test_dataloader = torch.utils.data.DataLoader(test_data,\n",
    "                                        batch_size=BATCH_SIZE,\n",
    "                                        shuffle=False,\n",
    "                                        num_workers=NUM_CORES)"
   ]
  },
  {
   "cell_type": "markdown",
   "id": "73d7109d",
   "metadata": {
    "papermill": {
     "duration": 2.573612,
     "end_time": "2022-10-30T01:38:32.886295",
     "exception": false,
     "start_time": "2022-10-30T01:38:30.312683",
     "status": "completed"
    },
    "tags": []
   },
   "source": [
    "# MODEL"
   ]
  },
  {
   "cell_type": "code",
   "execution_count": 16,
   "id": "0b0cdf6c",
   "metadata": {
    "execution": {
     "iopub.execute_input": "2022-10-30T01:38:39.040251Z",
     "iopub.status.busy": "2022-10-30T01:38:39.039680Z",
     "iopub.status.idle": "2022-10-30T01:38:39.046391Z",
     "shell.execute_reply": "2022-10-30T01:38:39.045486Z"
    },
    "papermill": {
     "duration": 3.578165,
     "end_time": "2022-10-30T01:38:39.048467",
     "exception": false,
     "start_time": "2022-10-30T01:38:35.470302",
     "status": "completed"
    },
    "tags": []
   },
   "outputs": [
    {
     "data": {
      "text/plain": [
       "{'bos_token': '<s>',\n",
       " 'eos_token': '</s>',\n",
       " 'unk_token': '<unk>',\n",
       " 'sep_token': '</s>',\n",
       " 'pad_token': '<pad>',\n",
       " 'cls_token': '<s>',\n",
       " 'mask_token': '<mask>'}"
      ]
     },
     "execution_count": 16,
     "metadata": {},
     "output_type": "execute_result"
    }
   ],
   "source": [
    "tokenizer.vocab_size\n",
    "tokenizer.special_tokens_map"
   ]
  },
  {
   "cell_type": "code",
   "execution_count": 17,
   "id": "7567075e",
   "metadata": {
    "execution": {
     "iopub.execute_input": "2022-10-30T01:38:44.329820Z",
     "iopub.status.busy": "2022-10-30T01:38:44.329430Z",
     "iopub.status.idle": "2022-10-30T01:38:44.335154Z",
     "shell.execute_reply": "2022-10-30T01:38:44.334174Z"
    },
    "papermill": {
     "duration": 2.703693,
     "end_time": "2022-10-30T01:38:44.337840",
     "exception": false,
     "start_time": "2022-10-30T01:38:41.634147",
     "status": "completed"
    },
    "tags": []
   },
   "outputs": [
    {
     "name": "stdout",
     "output_type": "stream",
     "text": [
      "bos_token_id <s>: 0\n",
      "eos_token_id </s>: 2\n",
      "sep_token_id </s>: 2\n",
      "pad_token_id <pad>: 1\n"
     ]
    }
   ],
   "source": [
    "print('bos_token_id <s>:', tokenizer.bos_token_id)\n",
    "print('eos_token_id </s>:', tokenizer.eos_token_id)\n",
    "print('sep_token_id </s>:', tokenizer.sep_token_id)\n",
    "print('pad_token_id <pad>:', tokenizer.pad_token_id)"
   ]
  },
  {
   "cell_type": "markdown",
   "id": "fc36b0fa",
   "metadata": {
    "papermill": {
     "duration": 2.673799,
     "end_time": "2022-10-30T01:38:49.837000",
     "exception": false,
     "start_time": "2022-10-30T01:38:47.163201",
     "status": "completed"
    },
    "tags": []
   },
   "source": [
    "# TRAINING"
   ]
  },
  {
   "cell_type": "code",
   "execution_count": 18,
   "id": "31a52e66",
   "metadata": {
    "execution": {
     "iopub.execute_input": "2022-10-30T01:38:55.139685Z",
     "iopub.status.busy": "2022-10-30T01:38:55.139245Z",
     "iopub.status.idle": "2022-10-30T02:08:00.300744Z",
     "shell.execute_reply": "2022-10-30T02:08:00.299684Z"
    },
    "papermill": {
     "duration": 1747.888931,
     "end_time": "2022-10-30T02:08:00.302798",
     "exception": false,
     "start_time": "2022-10-30T01:38:52.413867",
     "status": "completed"
    },
    "scrolled": true,
    "tags": []
   },
   "outputs": [
    {
     "name": "stdout",
     "output_type": "stream",
     "text": [
      "======== Epoch 1 / 5 ========\n"
     ]
    },
    {
     "data": {
      "application/vnd.jupyter.widget-view+json": {
       "model_id": "bc165c8ebfe34a89b035c7eefe28e24f",
       "version_major": 2,
       "version_minor": 0
      },
      "text/plain": [
       "Downloading:   0%|          | 0.00/1.04G [00:00<?, ?B/s]"
      ]
     },
     "metadata": {},
     "output_type": "display_data"
    },
    {
     "name": "stderr",
     "output_type": "stream",
     "text": [
      "Some weights of the model checkpoint at xlm-roberta-base were not used when initializing XLMRobertaForSequenceClassification: ['roberta.pooler.dense.bias', 'roberta.pooler.dense.weight', 'lm_head.decoder.weight', 'lm_head.layer_norm.bias', 'lm_head.bias', 'lm_head.layer_norm.weight', 'lm_head.dense.weight', 'lm_head.dense.bias']\n",
      "- This IS expected if you are initializing XLMRobertaForSequenceClassification from the checkpoint of a model trained on another task or with another architecture (e.g. initializing a BertForSequenceClassification model from a BertForPreTraining model).\n",
      "- This IS NOT expected if you are initializing XLMRobertaForSequenceClassification from the checkpoint of a model that you expect to be exactly identical (initializing a BertForSequenceClassification model from a BertForSequenceClassification model).\n",
      "Some weights of XLMRobertaForSequenceClassification were not initialized from the model checkpoint at xlm-roberta-base and are newly initialized: ['classifier.out_proj.weight', 'classifier.out_proj.bias', 'classifier.dense.weight', 'classifier.dense.bias']\n",
      "You should probably TRAIN this model on a down-stream task to be able to use it for predictions and inference.\n"
     ]
    },
    {
     "name": "stdout",
     "output_type": "stream",
     "text": [
      "Training...\n"
     ]
    },
    {
     "name": "stderr",
     "output_type": "stream",
     "text": [
      "  0%|          | 0/404 [00:00<?, ?it/s]Truncation was not explicitly activated but `max_length` is provided a specific value, please use `truncation=True` to explicitly truncate examples to max length. Defaulting to 'longest_first' truncation strategy. If you encode pairs of sequences (GLUE-style) with the tokenizer you can select this strategy more precisely by providing a specific strategy to `truncation`.\n",
      "Truncation was not explicitly activated but `max_length` is provided a specific value, please use `truncation=True` to explicitly truncate examples to max length. Defaulting to 'longest_first' truncation strategy. If you encode pairs of sequences (GLUE-style) with the tokenizer you can select this strategy more precisely by providing a specific strategy to `truncation`.\n",
      "100%|██████████| 404/404 [05:14<00:00,  1.28it/s]\n"
     ]
    },
    {
     "name": "stdout",
     "output_type": "stream",
     "text": [
      "Train loss: 417.8368291258812\n",
      "\n",
      "Validation...\n"
     ]
    },
    {
     "name": "stderr",
     "output_type": "stream",
     "text": [
      "  0%|          | 0/38 [00:00<?, ?it/s]Truncation was not explicitly activated but `max_length` is provided a specific value, please use `truncation=True` to explicitly truncate examples to max length. Defaulting to 'longest_first' truncation strategy. If you encode pairs of sequences (GLUE-style) with the tokenizer you can select this strategy more precisely by providing a specific strategy to `truncation`.\n",
      "Truncation was not explicitly activated but `max_length` is provided a specific value, please use `truncation=True` to explicitly truncate examples to max length. Defaulting to 'longest_first' truncation strategy. If you encode pairs of sequences (GLUE-style) with the tokenizer you can select this strategy more precisely by providing a specific strategy to `truncation`.\n",
      "100%|██████████| 38/38 [00:09<00:00,  4.08it/s]\n"
     ]
    },
    {
     "name": "stdout",
     "output_type": "stream",
     "text": [
      "Val loss: 35.431178629398346\n",
      "Val acc:  0.6039603960396039\n",
      "Saved model as model_unique.bin with new best validation accuracy score: 0.6039603960396039\n",
      "======== Epoch 2 / 5 ========\n",
      "Training...\n"
     ]
    },
    {
     "name": "stderr",
     "output_type": "stream",
     "text": [
      "  0%|          | 0/404 [00:00<?, ?it/s]Truncation was not explicitly activated but `max_length` is provided a specific value, please use `truncation=True` to explicitly truncate examples to max length. Defaulting to 'longest_first' truncation strategy. If you encode pairs of sequences (GLUE-style) with the tokenizer you can select this strategy more precisely by providing a specific strategy to `truncation`.\n",
      "Truncation was not explicitly activated but `max_length` is provided a specific value, please use `truncation=True` to explicitly truncate examples to max length. Defaulting to 'longest_first' truncation strategy. If you encode pairs of sequences (GLUE-style) with the tokenizer you can select this strategy more precisely by providing a specific strategy to `truncation`.\n",
      "100%|██████████| 404/404 [05:13<00:00,  1.29it/s]\n"
     ]
    },
    {
     "name": "stdout",
     "output_type": "stream",
     "text": [
      "Train loss: 324.7466068267822\n",
      "\n",
      "Validation...\n"
     ]
    },
    {
     "name": "stderr",
     "output_type": "stream",
     "text": [
      "  0%|          | 0/38 [00:00<?, ?it/s]Truncation was not explicitly activated but `max_length` is provided a specific value, please use `truncation=True` to explicitly truncate examples to max length. Defaulting to 'longest_first' truncation strategy. If you encode pairs of sequences (GLUE-style) with the tokenizer you can select this strategy more precisely by providing a specific strategy to `truncation`.\n",
      "Truncation was not explicitly activated but `max_length` is provided a specific value, please use `truncation=True` to explicitly truncate examples to max length. Defaulting to 'longest_first' truncation strategy. If you encode pairs of sequences (GLUE-style) with the tokenizer you can select this strategy more precisely by providing a specific strategy to `truncation`.\n",
      "100%|██████████| 38/38 [00:09<00:00,  4.04it/s]\n"
     ]
    },
    {
     "name": "stdout",
     "output_type": "stream",
     "text": [
      "Val loss: 29.34390652179718\n",
      "Val acc:  0.6666666666666666\n",
      "Saved model as model_unique.bin with new best validation accuracy score: 0.6666666666666666\n",
      "======== Epoch 3 / 5 ========\n",
      "Training...\n"
     ]
    },
    {
     "name": "stderr",
     "output_type": "stream",
     "text": [
      "  0%|          | 0/404 [00:00<?, ?it/s]Truncation was not explicitly activated but `max_length` is provided a specific value, please use `truncation=True` to explicitly truncate examples to max length. Defaulting to 'longest_first' truncation strategy. If you encode pairs of sequences (GLUE-style) with the tokenizer you can select this strategy more precisely by providing a specific strategy to `truncation`.\n",
      "Truncation was not explicitly activated but `max_length` is provided a specific value, please use `truncation=True` to explicitly truncate examples to max length. Defaulting to 'longest_first' truncation strategy. If you encode pairs of sequences (GLUE-style) with the tokenizer you can select this strategy more precisely by providing a specific strategy to `truncation`.\n",
      "100%|██████████| 404/404 [05:13<00:00,  1.29it/s]\n"
     ]
    },
    {
     "name": "stdout",
     "output_type": "stream",
     "text": [
      "Train loss: 267.30894735455513\n",
      "\n",
      "Validation...\n"
     ]
    },
    {
     "name": "stderr",
     "output_type": "stream",
     "text": [
      "  0%|          | 0/38 [00:00<?, ?it/s]Truncation was not explicitly activated but `max_length` is provided a specific value, please use `truncation=True` to explicitly truncate examples to max length. Defaulting to 'longest_first' truncation strategy. If you encode pairs of sequences (GLUE-style) with the tokenizer you can select this strategy more precisely by providing a specific strategy to `truncation`.\n",
      "Truncation was not explicitly activated but `max_length` is provided a specific value, please use `truncation=True` to explicitly truncate examples to max length. Defaulting to 'longest_first' truncation strategy. If you encode pairs of sequences (GLUE-style) with the tokenizer you can select this strategy more precisely by providing a specific strategy to `truncation`.\n",
      "100%|██████████| 38/38 [00:09<00:00,  4.05it/s]\n"
     ]
    },
    {
     "name": "stdout",
     "output_type": "stream",
     "text": [
      "Val loss: 28.094684332609177\n",
      "Val acc:  0.6963696369636964\n",
      "Saved model as model_unique.bin with new best validation accuracy score: 0.6963696369636964\n",
      "======== Epoch 4 / 5 ========\n",
      "Training...\n"
     ]
    },
    {
     "name": "stderr",
     "output_type": "stream",
     "text": [
      "  0%|          | 0/404 [00:00<?, ?it/s]Truncation was not explicitly activated but `max_length` is provided a specific value, please use `truncation=True` to explicitly truncate examples to max length. Defaulting to 'longest_first' truncation strategy. If you encode pairs of sequences (GLUE-style) with the tokenizer you can select this strategy more precisely by providing a specific strategy to `truncation`.\n",
      "Truncation was not explicitly activated but `max_length` is provided a specific value, please use `truncation=True` to explicitly truncate examples to max length. Defaulting to 'longest_first' truncation strategy. If you encode pairs of sequences (GLUE-style) with the tokenizer you can select this strategy more precisely by providing a specific strategy to `truncation`.\n",
      "100%|██████████| 404/404 [05:13<00:00,  1.29it/s]\n"
     ]
    },
    {
     "name": "stdout",
     "output_type": "stream",
     "text": [
      "Train loss: 220.49330435693264\n",
      "\n",
      "Validation...\n"
     ]
    },
    {
     "name": "stderr",
     "output_type": "stream",
     "text": [
      "  0%|          | 0/38 [00:00<?, ?it/s]Truncation was not explicitly activated but `max_length` is provided a specific value, please use `truncation=True` to explicitly truncate examples to max length. Defaulting to 'longest_first' truncation strategy. If you encode pairs of sequences (GLUE-style) with the tokenizer you can select this strategy more precisely by providing a specific strategy to `truncation`.\n",
      "Truncation was not explicitly activated but `max_length` is provided a specific value, please use `truncation=True` to explicitly truncate examples to max length. Defaulting to 'longest_first' truncation strategy. If you encode pairs of sequences (GLUE-style) with the tokenizer you can select this strategy more precisely by providing a specific strategy to `truncation`.\n",
      "100%|██████████| 38/38 [00:09<00:00,  4.04it/s]\n"
     ]
    },
    {
     "name": "stdout",
     "output_type": "stream",
     "text": [
      "Val loss: 31.786369800567627\n",
      "Val acc:  0.7103960396039604\n",
      "Saved model as model_unique.bin with new best validation accuracy score: 0.7103960396039604\n",
      "======== Epoch 5 / 5 ========\n",
      "Training...\n"
     ]
    },
    {
     "name": "stderr",
     "output_type": "stream",
     "text": [
      "  0%|          | 0/404 [00:00<?, ?it/s]Truncation was not explicitly activated but `max_length` is provided a specific value, please use `truncation=True` to explicitly truncate examples to max length. Defaulting to 'longest_first' truncation strategy. If you encode pairs of sequences (GLUE-style) with the tokenizer you can select this strategy more precisely by providing a specific strategy to `truncation`.\n",
      "Truncation was not explicitly activated but `max_length` is provided a specific value, please use `truncation=True` to explicitly truncate examples to max length. Defaulting to 'longest_first' truncation strategy. If you encode pairs of sequences (GLUE-style) with the tokenizer you can select this strategy more precisely by providing a specific strategy to `truncation`.\n",
      "100%|██████████| 404/404 [05:14<00:00,  1.29it/s]\n"
     ]
    },
    {
     "name": "stdout",
     "output_type": "stream",
     "text": [
      "Train loss: 177.11117209494114\n",
      "\n",
      "Validation...\n"
     ]
    },
    {
     "name": "stderr",
     "output_type": "stream",
     "text": [
      "  0%|          | 0/38 [00:00<?, ?it/s]Truncation was not explicitly activated but `max_length` is provided a specific value, please use `truncation=True` to explicitly truncate examples to max length. Defaulting to 'longest_first' truncation strategy. If you encode pairs of sequences (GLUE-style) with the tokenizer you can select this strategy more precisely by providing a specific strategy to `truncation`.\n",
      "Truncation was not explicitly activated but `max_length` is provided a specific value, please use `truncation=True` to explicitly truncate examples to max length. Defaulting to 'longest_first' truncation strategy. If you encode pairs of sequences (GLUE-style) with the tokenizer you can select this strategy more precisely by providing a specific strategy to `truncation`.\n",
      "100%|██████████| 38/38 [00:09<00:00,  4.05it/s]\n"
     ]
    },
    {
     "name": "stdout",
     "output_type": "stream",
     "text": [
      "Val loss: 31.526852279901505\n",
      "Val acc:  0.7070957095709571\n"
     ]
    }
   ],
   "source": [
    "max_val_acc = 0\n",
    "\n",
    "for epoch in range(0, NUM_EPOCHS):\n",
    "    \n",
    "    print('======== Epoch {:} / {:} ========'.format(epoch + 1, NUM_EPOCHS))\n",
    "    \n",
    "    # For this epoch, store the val acc scores for each fold in this list.\n",
    "    # We will use this list to calculate the cv at the end of the epoch.\n",
    "    epoch_acc_scores_list = []\n",
    "    \n",
    "    if epoch == 0:\n",
    "        # define the model and the optimizer\n",
    "        model = AutoModelForSequenceClassification.from_pretrained(MODEL_TYPE, num_labels = 3)\n",
    "        model.to(device)\n",
    "        optimizer = AdamW(model.parameters(), lr=L_RATE, eps=1e-8)\n",
    "    else:\n",
    "        # Get the fold model\n",
    "        model.load_state_dict(torch.load(path_model))\n",
    "        model.to(device)\n",
    "\n",
    "    # ========================================\n",
    "    #               Training\n",
    "    # ========================================\n",
    "    print('Training...')\n",
    "\n",
    "    # put the model into train mode\n",
    "    model.train()\n",
    "    # This turns gradient calculations on and off.\n",
    "    torch.set_grad_enabled(True)\n",
    "\n",
    "    # Reset the total loss for this epoch.\n",
    "    total_train_loss = 0\n",
    "\n",
    "    for i, batch in enumerate(tqdm(train_dataloader)):\n",
    "\n",
    "        b_input_ids = batch[0].to(device)\n",
    "        b_input_mask = batch[1].to(device)\n",
    "        b_labels = batch[2].to(device)\n",
    "\n",
    "        model.zero_grad()        \n",
    "\n",
    "        outputs = model(b_input_ids, \n",
    "                    attention_mask=b_input_mask,\n",
    "                    labels=b_labels)\n",
    "\n",
    "        # Get the loss from the outputs tuple: (loss, logits)\n",
    "        loss = outputs[0]\n",
    "\n",
    "        # Convert the loss from a torch tensor to a number.\n",
    "        # Calculate the total loss.\n",
    "        total_train_loss = total_train_loss + loss.item()\n",
    "\n",
    "        # Zero the gradients\n",
    "        optimizer.zero_grad()\n",
    "\n",
    "        # Perform a backward pass to calculate the gradients.\n",
    "        loss.backward()\n",
    "\n",
    "        # Clip the norm of the gradients to 1.0.\n",
    "        # This is to help prevent the \"exploding gradients\" problem.\n",
    "        torch.nn.utils.clip_grad_norm_(model.parameters(), 1.0)\n",
    "\n",
    "        # Use the optimizer to update Weights\n",
    "\n",
    "        # Optimizer for GPU\n",
    "        optimizer.step() \n",
    "\n",
    "        # Optimizer for TPU\n",
    "        # https://pytorch.org/xla/\n",
    "#             xm.optimizer_step(optimizer, barrier=True)\n",
    "    print('Train loss:', total_train_loss)\n",
    "\n",
    "\n",
    "    # ========================================\n",
    "    #               Validation\n",
    "    # ========================================\n",
    "\n",
    "    print('\\nValidation...')\n",
    "    targets_list = []\n",
    "    # Put the model in evaluation mode.\n",
    "    model.eval()\n",
    "\n",
    "    # Turn off the gradient calculations.\n",
    "    # This tells the model not to compute or store gradients.\n",
    "    # This step saves memory and speeds up validation.\n",
    "    torch.set_grad_enabled(False)\n",
    "\n",
    "    # Reset the total loss for this epoch.\n",
    "    total_val_loss = 0\n",
    "\n",
    "    for j, val_batch in enumerate(tqdm(val_dataloader)):\n",
    "        b_input_ids = val_batch[0].to(device)\n",
    "        b_input_mask = val_batch[1].to(device)\n",
    "        b_labels = val_batch[2].to(device)      \n",
    "\n",
    "\n",
    "        outputs = model(b_input_ids, attention_mask=b_input_mask, labels=b_labels)\n",
    "\n",
    "        # Get the loss from the outputs tuple: (loss, logits)\n",
    "        loss = outputs[0]\n",
    "\n",
    "        # Convert the loss from a torch tensor to a number.\n",
    "        # Calculate the total loss.\n",
    "        total_val_loss = total_val_loss + loss.item()\n",
    "\n",
    "        # Get the preds\n",
    "        preds = outputs[1]\n",
    "\n",
    "\n",
    "        # Move preds to the CPU\n",
    "        val_preds = preds.detach().cpu().numpy()\n",
    "\n",
    "        # Move the labels to the cpu\n",
    "        targets_np = b_labels.to('cpu').numpy()\n",
    "\n",
    "        # Append the labels to a numpy list\n",
    "        targets_list.extend(targets_np)\n",
    "\n",
    "        if j == 0:  # first batch\n",
    "            stacked_val_preds = val_preds\n",
    "\n",
    "        else:\n",
    "            stacked_val_preds = np.vstack((stacked_val_preds, val_preds))\n",
    "\n",
    "    # .........................................\n",
    "    # Calculate the val accuracy for this fold\n",
    "    # .........................................      \n",
    "\n",
    "\n",
    "    # Calculate the validation accuracy\n",
    "    y_true = targets_list\n",
    "    y_pred = np.argmax(stacked_val_preds, axis=1)\n",
    "\n",
    "    val_acc = accuracy_score(y_true, y_pred)\n",
    "\n",
    "    print('Val loss:' ,total_val_loss)\n",
    "    print('Val acc: ', val_acc)\n",
    "\n",
    "\n",
    "    # .........................\n",
    "    # Save the model\n",
    "    # .........................\n",
    "    if val_acc > max_val_acc:\n",
    "        max_val_acc = val_acc\n",
    "        torch.save(model.state_dict(), path_model)\n",
    "        print(f'Saved model as {path_model} with new best validation accuracy score: {max_val_acc}')\n",
    "    \n",
    "    # Use the garbage collector to save memory.\n",
    "    gc.collect()"
   ]
  },
  {
   "cell_type": "markdown",
   "id": "3ec48699",
   "metadata": {
    "papermill": {
     "duration": 2.805965,
     "end_time": "2022-10-30T02:08:05.813089",
     "exception": false,
     "start_time": "2022-10-30T02:08:03.007124",
     "status": "completed"
    },
    "tags": []
   },
   "source": [
    "# TESTING"
   ]
  },
  {
   "cell_type": "code",
   "execution_count": 19,
   "id": "a5ba0d3c",
   "metadata": {
    "execution": {
     "iopub.execute_input": "2022-10-30T02:08:11.910935Z",
     "iopub.status.busy": "2022-10-30T02:08:11.910528Z",
     "iopub.status.idle": "2022-10-30T02:08:58.508580Z",
     "shell.execute_reply": "2022-10-30T02:08:58.507274Z"
    },
    "papermill": {
     "duration": 49.560048,
     "end_time": "2022-10-30T02:08:58.510693",
     "exception": false,
     "start_time": "2022-10-30T02:08:08.950645",
     "status": "completed"
    },
    "tags": []
   },
   "outputs": [
    {
     "name": "stdout",
     "output_type": "stream",
     "text": [
      "\n",
      "Test Set...\n",
      "Total batches: 163\n"
     ]
    },
    {
     "name": "stderr",
     "output_type": "stream",
     "text": [
      "Some weights of the model checkpoint at xlm-roberta-base were not used when initializing XLMRobertaForSequenceClassification: ['roberta.pooler.dense.bias', 'roberta.pooler.dense.weight', 'lm_head.decoder.weight', 'lm_head.layer_norm.bias', 'lm_head.bias', 'lm_head.layer_norm.weight', 'lm_head.dense.weight', 'lm_head.dense.bias']\n",
      "- This IS expected if you are initializing XLMRobertaForSequenceClassification from the checkpoint of a model trained on another task or with another architecture (e.g. initializing a BertForSequenceClassification model from a BertForPreTraining model).\n",
      "- This IS NOT expected if you are initializing XLMRobertaForSequenceClassification from the checkpoint of a model that you expect to be exactly identical (initializing a BertForSequenceClassification model from a BertForSequenceClassification model).\n",
      "Some weights of XLMRobertaForSequenceClassification were not initialized from the model checkpoint at xlm-roberta-base and are newly initialized: ['classifier.out_proj.weight', 'classifier.out_proj.bias', 'classifier.dense.weight', 'classifier.dense.bias']\n",
      "You should probably TRAIN this model on a down-stream task to be able to use it for predictions and inference.\n",
      "  0%|          | 0/163 [00:00<?, ?it/s]Truncation was not explicitly activated but `max_length` is provided a specific value, please use `truncation=True` to explicitly truncate examples to max length. Defaulting to 'longest_first' truncation strategy. If you encode pairs of sequences (GLUE-style) with the tokenizer you can select this strategy more precisely by providing a specific strategy to `truncation`.\n",
      "Truncation was not explicitly activated but `max_length` is provided a specific value, please use `truncation=True` to explicitly truncate examples to max length. Defaulting to 'longest_first' truncation strategy. If you encode pairs of sequences (GLUE-style) with the tokenizer you can select this strategy more precisely by providing a specific strategy to `truncation`.\n",
      "100%|██████████| 163/163 [00:39<00:00,  4.13it/s]"
     ]
    },
    {
     "name": "stdout",
     "output_type": "stream",
     "text": [
      "\n",
      "Prediction complete.\n"
     ]
    },
    {
     "name": "stderr",
     "output_type": "stream",
     "text": [
      "\n"
     ]
    }
   ],
   "source": [
    "# ========================================\n",
    "#               Test Set\n",
    "# ========================================\n",
    "\n",
    "print('\\nTest Set...')\n",
    "print('Total batches:', len(test_dataloader))\n",
    "\n",
    "model_preds_list = []\n",
    "\n",
    "# Load the model\n",
    "model = AutoModelForSequenceClassification.from_pretrained(MODEL_TYPE, num_labels = 3)\n",
    "model.load_state_dict(torch.load(path_model))\n",
    "# Send the model to the device.\n",
    "model.to(device)\n",
    "\n",
    "# Put the model in evaluation mode.\n",
    "model.eval()\n",
    "\n",
    "# Turn off the gradient calculations.\n",
    "# This tells the model not to compute or store gradients.\n",
    "# This step saves memory and speeds up validation.\n",
    "torch.set_grad_enabled(False)\n",
    "\n",
    "# Reset the total loss for this epoch.\n",
    "total_val_loss = 0\n",
    "\n",
    "for j, h_batch in enumerate(tqdm(test_dataloader)):\n",
    "\n",
    "#         inference_status = 'Batch ' + str(j + 1)\n",
    "#         print(inference_status, end='\\r')\n",
    "\n",
    "    b_input_ids = h_batch[0].to(device)\n",
    "    b_input_mask = h_batch[1].to(device)  \n",
    "\n",
    "    outputs = model(b_input_ids, attention_mask=b_input_mask)\n",
    "\n",
    "    # Get the preds\n",
    "    preds = outputs[0]\n",
    "\n",
    "    # Move preds to the CPU\n",
    "    val_preds = preds.detach().cpu().numpy()\n",
    "\n",
    "    # Stack the predictions.\n",
    "    if j == 0:  # first batch\n",
    "        stacked_val_preds = val_preds\n",
    "    else:\n",
    "        stacked_val_preds = np.vstack((stacked_val_preds, val_preds))\n",
    "\n",
    "            \n",
    "print('\\nPrediction complete.')   "
   ]
  },
  {
   "cell_type": "code",
   "execution_count": 20,
   "id": "44bb4daa",
   "metadata": {
    "execution": {
     "iopub.execute_input": "2022-10-30T02:09:04.132577Z",
     "iopub.status.busy": "2022-10-30T02:09:04.131452Z",
     "iopub.status.idle": "2022-10-30T02:09:04.139774Z",
     "shell.execute_reply": "2022-10-30T02:09:04.138728Z"
    },
    "papermill": {
     "duration": 2.931672,
     "end_time": "2022-10-30T02:09:04.142510",
     "exception": false,
     "start_time": "2022-10-30T02:09:01.210838",
     "status": "completed"
    },
    "tags": []
   },
   "outputs": [
    {
     "data": {
      "text/plain": [
       "array([[-2.1786685 , -0.4552829 ,  2.9270284 ],\n",
       "       [-3.0232186 ,  1.3627121 ,  1.7784853 ],\n",
       "       [ 3.147342  , -0.997078  , -1.7299685 ],\n",
       "       ...,\n",
       "       [ 1.7311021 , -0.08891276, -1.2928483 ],\n",
       "       [ 3.3076186 , -1.466726  , -1.4329134 ],\n",
       "       [-1.7255358 , -1.121924  ,  3.0675635 ]], dtype=float32)"
      ]
     },
     "execution_count": 20,
     "metadata": {},
     "output_type": "execute_result"
    }
   ],
   "source": [
    "stacked_val_preds"
   ]
  },
  {
   "cell_type": "markdown",
   "id": "8f9e0bb6",
   "metadata": {
    "papermill": {
     "duration": 2.682353,
     "end_time": "2022-10-30T02:09:09.626257",
     "exception": false,
     "start_time": "2022-10-30T02:09:06.943904",
     "status": "completed"
    },
    "tags": []
   },
   "source": [
    "# SUBMISSION"
   ]
  },
  {
   "cell_type": "code",
   "execution_count": 21,
   "id": "d7bf2b7b",
   "metadata": {
    "execution": {
     "iopub.execute_input": "2022-10-30T02:09:15.830697Z",
     "iopub.status.busy": "2022-10-30T02:09:15.830307Z",
     "iopub.status.idle": "2022-10-30T02:09:15.837738Z",
     "shell.execute_reply": "2022-10-30T02:09:15.836786Z"
    },
    "papermill": {
     "duration": 3.125079,
     "end_time": "2022-10-30T02:09:15.839766",
     "exception": false,
     "start_time": "2022-10-30T02:09:12.714687",
     "status": "completed"
    },
    "tags": []
   },
   "outputs": [
    {
     "data": {
      "text/plain": [
       "array([2, 2, 0, ..., 0, 0, 2])"
      ]
     },
     "execution_count": 21,
     "metadata": {},
     "output_type": "execute_result"
    }
   ],
   "source": [
    "test_preds = np.argmax(stacked_val_preds, axis=1)\n",
    "test_preds"
   ]
  },
  {
   "cell_type": "code",
   "execution_count": 22,
   "id": "a38be1cf",
   "metadata": {
    "execution": {
     "iopub.execute_input": "2022-10-30T02:09:21.289041Z",
     "iopub.status.busy": "2022-10-30T02:09:21.288664Z",
     "iopub.status.idle": "2022-10-30T02:09:21.315979Z",
     "shell.execute_reply": "2022-10-30T02:09:21.315097Z"
    },
    "papermill": {
     "duration": 2.790791,
     "end_time": "2022-10-30T02:09:21.318072",
     "exception": false,
     "start_time": "2022-10-30T02:09:18.527281",
     "status": "completed"
    },
    "tags": []
   },
   "outputs": [
    {
     "data": {
      "text/html": [
       "<div>\n",
       "<style scoped>\n",
       "    .dataframe tbody tr th:only-of-type {\n",
       "        vertical-align: middle;\n",
       "    }\n",
       "\n",
       "    .dataframe tbody tr th {\n",
       "        vertical-align: top;\n",
       "    }\n",
       "\n",
       "    .dataframe thead th {\n",
       "        text-align: right;\n",
       "    }\n",
       "</style>\n",
       "<table border=\"1\" class=\"dataframe\">\n",
       "  <thead>\n",
       "    <tr style=\"text-align: right;\">\n",
       "      <th></th>\n",
       "      <th>id</th>\n",
       "      <th>prediction</th>\n",
       "    </tr>\n",
       "  </thead>\n",
       "  <tbody>\n",
       "    <tr>\n",
       "      <th>0</th>\n",
       "      <td>c6d58c3f69</td>\n",
       "      <td>2</td>\n",
       "    </tr>\n",
       "    <tr>\n",
       "      <th>1</th>\n",
       "      <td>cefcc82292</td>\n",
       "      <td>2</td>\n",
       "    </tr>\n",
       "    <tr>\n",
       "      <th>2</th>\n",
       "      <td>e98005252c</td>\n",
       "      <td>0</td>\n",
       "    </tr>\n",
       "    <tr>\n",
       "      <th>3</th>\n",
       "      <td>58518c10ba</td>\n",
       "      <td>1</td>\n",
       "    </tr>\n",
       "    <tr>\n",
       "      <th>4</th>\n",
       "      <td>c32b0d16df</td>\n",
       "      <td>0</td>\n",
       "    </tr>\n",
       "  </tbody>\n",
       "</table>\n",
       "</div>"
      ],
      "text/plain": [
       "           id  prediction\n",
       "0  c6d58c3f69           2\n",
       "1  cefcc82292           2\n",
       "2  e98005252c           0\n",
       "3  58518c10ba           1\n",
       "4  c32b0d16df           0"
      ]
     },
     "execution_count": 22,
     "metadata": {},
     "output_type": "execute_result"
    }
   ],
   "source": [
    "path = '/kaggle/input/contradictory-my-dear-watson/sample_submission.csv'\n",
    "\n",
    "df_sample = pd.read_csv(path)\n",
    "df_sample['prediction'] = test_preds\n",
    "df_sample.head()"
   ]
  },
  {
   "cell_type": "code",
   "execution_count": 23,
   "id": "fdf1f15d",
   "metadata": {
    "execution": {
     "iopub.execute_input": "2022-10-30T02:09:26.904587Z",
     "iopub.status.busy": "2022-10-30T02:09:26.904200Z",
     "iopub.status.idle": "2022-10-30T02:09:26.915403Z",
     "shell.execute_reply": "2022-10-30T02:09:26.914575Z"
    },
    "papermill": {
     "duration": 2.688416,
     "end_time": "2022-10-30T02:09:26.917366",
     "exception": false,
     "start_time": "2022-10-30T02:09:24.228950",
     "status": "completed"
    },
    "tags": []
   },
   "outputs": [],
   "source": [
    "df_sample.to_csv('submission.csv', index=False)"
   ]
  }
 ],
 "metadata": {
  "kernelspec": {
   "display_name": "Python 3",
   "language": "python",
   "name": "python3"
  },
  "language_info": {
   "codemirror_mode": {
    "name": "ipython",
    "version": 3
   },
   "file_extension": ".py",
   "mimetype": "text/x-python",
   "name": "python",
   "nbconvert_exporter": "python",
   "pygments_lexer": "ipython3",
   "version": "3.7.12"
  },
  "papermill": {
   "default_parameters": {},
   "duration": 6884.393727,
   "end_time": "2022-10-30T02:09:32.533018",
   "environment_variables": {},
   "exception": null,
   "input_path": "__notebook__.ipynb",
   "output_path": "__notebook__.ipynb",
   "parameters": {},
   "start_time": "2022-10-30T00:14:48.139291",
   "version": "2.3.4"
  },
  "widgets": {
   "application/vnd.jupyter.widget-state+json": {
    "state": {
     "02578223e84b4e1abb0610701772fb8a": {
      "model_module": "@jupyter-widgets/controls",
      "model_module_version": "1.5.0",
      "model_name": "ProgressStyleModel",
      "state": {
       "_model_module": "@jupyter-widgets/controls",
       "_model_module_version": "1.5.0",
       "_model_name": "ProgressStyleModel",
       "_view_count": null,
       "_view_module": "@jupyter-widgets/base",
       "_view_module_version": "1.2.0",
       "_view_name": "StyleView",
       "bar_color": null,
       "description_width": ""
      }
     },
     "0611b6912b4043819175e880aaf7cb7c": {
      "model_module": "@jupyter-widgets/controls",
      "model_module_version": "1.5.0",
      "model_name": "HTMLModel",
      "state": {
       "_dom_classes": [],
       "_model_module": "@jupyter-widgets/controls",
       "_model_module_version": "1.5.0",
       "_model_name": "HTMLModel",
       "_view_count": null,
       "_view_module": "@jupyter-widgets/controls",
       "_view_module_version": "1.5.0",
       "_view_name": "HTMLView",
       "description": "",
       "description_tooltip": null,
       "layout": "IPY_MODEL_0cfb514c0d784c83a6f68a7c44a7bfc5",
       "placeholder": "​",
       "style": "IPY_MODEL_080d9ee9dd624493b0d21e5158a00fe4",
       "value": "Downloading: 100%"
      }
     },
     "080d9ee9dd624493b0d21e5158a00fe4": {
      "model_module": "@jupyter-widgets/controls",
      "model_module_version": "1.5.0",
      "model_name": "DescriptionStyleModel",
      "state": {
       "_model_module": "@jupyter-widgets/controls",
       "_model_module_version": "1.5.0",
       "_model_name": "DescriptionStyleModel",
       "_view_count": null,
       "_view_module": "@jupyter-widgets/base",
       "_view_module_version": "1.2.0",
       "_view_name": "StyleView",
       "description_width": ""
      }
     },
     "0cb6814b4bfe49bcacaf93071b18ea53": {
      "model_module": "@jupyter-widgets/base",
      "model_module_version": "1.2.0",
      "model_name": "LayoutModel",
      "state": {
       "_model_module": "@jupyter-widgets/base",
       "_model_module_version": "1.2.0",
       "_model_name": "LayoutModel",
       "_view_count": null,
       "_view_module": "@jupyter-widgets/base",
       "_view_module_version": "1.2.0",
       "_view_name": "LayoutView",
       "align_content": null,
       "align_items": null,
       "align_self": null,
       "border": null,
       "bottom": null,
       "display": null,
       "flex": null,
       "flex_flow": null,
       "grid_area": null,
       "grid_auto_columns": null,
       "grid_auto_flow": null,
       "grid_auto_rows": null,
       "grid_column": null,
       "grid_gap": null,
       "grid_row": null,
       "grid_template_areas": null,
       "grid_template_columns": null,
       "grid_template_rows": null,
       "height": null,
       "justify_content": null,
       "justify_items": null,
       "left": null,
       "margin": null,
       "max_height": null,
       "max_width": null,
       "min_height": null,
       "min_width": null,
       "object_fit": null,
       "object_position": null,
       "order": null,
       "overflow": null,
       "overflow_x": null,
       "overflow_y": null,
       "padding": null,
       "right": null,
       "top": null,
       "visibility": null,
       "width": null
      }
     },
     "0cfb514c0d784c83a6f68a7c44a7bfc5": {
      "model_module": "@jupyter-widgets/base",
      "model_module_version": "1.2.0",
      "model_name": "LayoutModel",
      "state": {
       "_model_module": "@jupyter-widgets/base",
       "_model_module_version": "1.2.0",
       "_model_name": "LayoutModel",
       "_view_count": null,
       "_view_module": "@jupyter-widgets/base",
       "_view_module_version": "1.2.0",
       "_view_name": "LayoutView",
       "align_content": null,
       "align_items": null,
       "align_self": null,
       "border": null,
       "bottom": null,
       "display": null,
       "flex": null,
       "flex_flow": null,
       "grid_area": null,
       "grid_auto_columns": null,
       "grid_auto_flow": null,
       "grid_auto_rows": null,
       "grid_column": null,
       "grid_gap": null,
       "grid_row": null,
       "grid_template_areas": null,
       "grid_template_columns": null,
       "grid_template_rows": null,
       "height": null,
       "justify_content": null,
       "justify_items": null,
       "left": null,
       "margin": null,
       "max_height": null,
       "max_width": null,
       "min_height": null,
       "min_width": null,
       "object_fit": null,
       "object_position": null,
       "order": null,
       "overflow": null,
       "overflow_x": null,
       "overflow_y": null,
       "padding": null,
       "right": null,
       "top": null,
       "visibility": null,
       "width": null
      }
     },
     "111383dad7034401b7ba9e8d2a692bd4": {
      "model_module": "@jupyter-widgets/controls",
      "model_module_version": "1.5.0",
      "model_name": "HBoxModel",
      "state": {
       "_dom_classes": [],
       "_model_module": "@jupyter-widgets/controls",
       "_model_module_version": "1.5.0",
       "_model_name": "HBoxModel",
       "_view_count": null,
       "_view_module": "@jupyter-widgets/controls",
       "_view_module_version": "1.5.0",
       "_view_name": "HBoxView",
       "box_style": "",
       "children": [
        "IPY_MODEL_81629c0235f84a78ad19cdb7700d9080",
        "IPY_MODEL_fdc094202a014b53ab4fd4820d810821",
        "IPY_MODEL_ee9eb98e2a784a72b78ee80df86fab6b"
       ],
       "layout": "IPY_MODEL_879f1c8771b2416192255cf02f125b34"
      }
     },
     "17f5dd56f70e4175b24d4e98f773c86b": {
      "model_module": "@jupyter-widgets/controls",
      "model_module_version": "1.5.0",
      "model_name": "DescriptionStyleModel",
      "state": {
       "_model_module": "@jupyter-widgets/controls",
       "_model_module_version": "1.5.0",
       "_model_name": "DescriptionStyleModel",
       "_view_count": null,
       "_view_module": "@jupyter-widgets/base",
       "_view_module_version": "1.2.0",
       "_view_name": "StyleView",
       "description_width": ""
      }
     },
     "186cf783a97a47efadd3781507151753": {
      "model_module": "@jupyter-widgets/controls",
      "model_module_version": "1.5.0",
      "model_name": "ProgressStyleModel",
      "state": {
       "_model_module": "@jupyter-widgets/controls",
       "_model_module_version": "1.5.0",
       "_model_name": "ProgressStyleModel",
       "_view_count": null,
       "_view_module": "@jupyter-widgets/base",
       "_view_module_version": "1.2.0",
       "_view_name": "StyleView",
       "bar_color": null,
       "description_width": ""
      }
     },
     "1a6fbe70bdc745c2b7fe8bc752244cab": {
      "model_module": "@jupyter-widgets/base",
      "model_module_version": "1.2.0",
      "model_name": "LayoutModel",
      "state": {
       "_model_module": "@jupyter-widgets/base",
       "_model_module_version": "1.2.0",
       "_model_name": "LayoutModel",
       "_view_count": null,
       "_view_module": "@jupyter-widgets/base",
       "_view_module_version": "1.2.0",
       "_view_name": "LayoutView",
       "align_content": null,
       "align_items": null,
       "align_self": null,
       "border": null,
       "bottom": null,
       "display": null,
       "flex": null,
       "flex_flow": null,
       "grid_area": null,
       "grid_auto_columns": null,
       "grid_auto_flow": null,
       "grid_auto_rows": null,
       "grid_column": null,
       "grid_gap": null,
       "grid_row": null,
       "grid_template_areas": null,
       "grid_template_columns": null,
       "grid_template_rows": null,
       "height": null,
       "justify_content": null,
       "justify_items": null,
       "left": null,
       "margin": null,
       "max_height": null,
       "max_width": null,
       "min_height": null,
       "min_width": null,
       "object_fit": null,
       "object_position": null,
       "order": null,
       "overflow": null,
       "overflow_x": null,
       "overflow_y": null,
       "padding": null,
       "right": null,
       "top": null,
       "visibility": null,
       "width": null
      }
     },
     "2ee569e575064d4c9bab0a0470a4c7bf": {
      "model_module": "@jupyter-widgets/controls",
      "model_module_version": "1.5.0",
      "model_name": "DescriptionStyleModel",
      "state": {
       "_model_module": "@jupyter-widgets/controls",
       "_model_module_version": "1.5.0",
       "_model_name": "DescriptionStyleModel",
       "_view_count": null,
       "_view_module": "@jupyter-widgets/base",
       "_view_module_version": "1.2.0",
       "_view_name": "StyleView",
       "description_width": ""
      }
     },
     "30c0fe33f4424e128972db40326fa33c": {
      "model_module": "@jupyter-widgets/base",
      "model_module_version": "1.2.0",
      "model_name": "LayoutModel",
      "state": {
       "_model_module": "@jupyter-widgets/base",
       "_model_module_version": "1.2.0",
       "_model_name": "LayoutModel",
       "_view_count": null,
       "_view_module": "@jupyter-widgets/base",
       "_view_module_version": "1.2.0",
       "_view_name": "LayoutView",
       "align_content": null,
       "align_items": null,
       "align_self": null,
       "border": null,
       "bottom": null,
       "display": null,
       "flex": null,
       "flex_flow": null,
       "grid_area": null,
       "grid_auto_columns": null,
       "grid_auto_flow": null,
       "grid_auto_rows": null,
       "grid_column": null,
       "grid_gap": null,
       "grid_row": null,
       "grid_template_areas": null,
       "grid_template_columns": null,
       "grid_template_rows": null,
       "height": null,
       "justify_content": null,
       "justify_items": null,
       "left": null,
       "margin": null,
       "max_height": null,
       "max_width": null,
       "min_height": null,
       "min_width": null,
       "object_fit": null,
       "object_position": null,
       "order": null,
       "overflow": null,
       "overflow_x": null,
       "overflow_y": null,
       "padding": null,
       "right": null,
       "top": null,
       "visibility": null,
       "width": null
      }
     },
     "31afdbf9b5ef4abab50013780b25c347": {
      "model_module": "@jupyter-widgets/controls",
      "model_module_version": "1.5.0",
      "model_name": "HTMLModel",
      "state": {
       "_dom_classes": [],
       "_model_module": "@jupyter-widgets/controls",
       "_model_module_version": "1.5.0",
       "_model_name": "HTMLModel",
       "_view_count": null,
       "_view_module": "@jupyter-widgets/controls",
       "_view_module_version": "1.5.0",
       "_view_name": "HTMLView",
       "description": "",
       "description_tooltip": null,
       "layout": "IPY_MODEL_30c0fe33f4424e128972db40326fa33c",
       "placeholder": "​",
       "style": "IPY_MODEL_73c279d48df447ab9ff353165dc4389d",
       "value": "Downloading: 100%"
      }
     },
     "35157004ef0c4d96a58c794dc6afa418": {
      "model_module": "@jupyter-widgets/base",
      "model_module_version": "1.2.0",
      "model_name": "LayoutModel",
      "state": {
       "_model_module": "@jupyter-widgets/base",
       "_model_module_version": "1.2.0",
       "_model_name": "LayoutModel",
       "_view_count": null,
       "_view_module": "@jupyter-widgets/base",
       "_view_module_version": "1.2.0",
       "_view_name": "LayoutView",
       "align_content": null,
       "align_items": null,
       "align_self": null,
       "border": null,
       "bottom": null,
       "display": null,
       "flex": null,
       "flex_flow": null,
       "grid_area": null,
       "grid_auto_columns": null,
       "grid_auto_flow": null,
       "grid_auto_rows": null,
       "grid_column": null,
       "grid_gap": null,
       "grid_row": null,
       "grid_template_areas": null,
       "grid_template_columns": null,
       "grid_template_rows": null,
       "height": null,
       "justify_content": null,
       "justify_items": null,
       "left": null,
       "margin": null,
       "max_height": null,
       "max_width": null,
       "min_height": null,
       "min_width": null,
       "object_fit": null,
       "object_position": null,
       "order": null,
       "overflow": null,
       "overflow_x": null,
       "overflow_y": null,
       "padding": null,
       "right": null,
       "top": null,
       "visibility": null,
       "width": null
      }
     },
     "4bbf5588b7e64b7d8c1aeacce35e9132": {
      "model_module": "@jupyter-widgets/controls",
      "model_module_version": "1.5.0",
      "model_name": "FloatProgressModel",
      "state": {
       "_dom_classes": [],
       "_model_module": "@jupyter-widgets/controls",
       "_model_module_version": "1.5.0",
       "_model_name": "FloatProgressModel",
       "_view_count": null,
       "_view_module": "@jupyter-widgets/controls",
       "_view_module_version": "1.5.0",
       "_view_name": "ProgressView",
       "bar_style": "success",
       "description": "",
       "description_tooltip": null,
       "layout": "IPY_MODEL_0cb6814b4bfe49bcacaf93071b18ea53",
       "max": 1115590446.0,
       "min": 0.0,
       "orientation": "horizontal",
       "style": "IPY_MODEL_186cf783a97a47efadd3781507151753",
       "value": 1115590446.0
      }
     },
     "50c46f051f9f44b4b9eadf85ff0e37e8": {
      "model_module": "@jupyter-widgets/base",
      "model_module_version": "1.2.0",
      "model_name": "LayoutModel",
      "state": {
       "_model_module": "@jupyter-widgets/base",
       "_model_module_version": "1.2.0",
       "_model_name": "LayoutModel",
       "_view_count": null,
       "_view_module": "@jupyter-widgets/base",
       "_view_module_version": "1.2.0",
       "_view_name": "LayoutView",
       "align_content": null,
       "align_items": null,
       "align_self": null,
       "border": null,
       "bottom": null,
       "display": null,
       "flex": null,
       "flex_flow": null,
       "grid_area": null,
       "grid_auto_columns": null,
       "grid_auto_flow": null,
       "grid_auto_rows": null,
       "grid_column": null,
       "grid_gap": null,
       "grid_row": null,
       "grid_template_areas": null,
       "grid_template_columns": null,
       "grid_template_rows": null,
       "height": null,
       "justify_content": null,
       "justify_items": null,
       "left": null,
       "margin": null,
       "max_height": null,
       "max_width": null,
       "min_height": null,
       "min_width": null,
       "object_fit": null,
       "object_position": null,
       "order": null,
       "overflow": null,
       "overflow_x": null,
       "overflow_y": null,
       "padding": null,
       "right": null,
       "top": null,
       "visibility": null,
       "width": null
      }
     },
     "5480112fd45f449a9b56474f5db1fc37": {
      "model_module": "@jupyter-widgets/controls",
      "model_module_version": "1.5.0",
      "model_name": "HTMLModel",
      "state": {
       "_dom_classes": [],
       "_model_module": "@jupyter-widgets/controls",
       "_model_module_version": "1.5.0",
       "_model_name": "HTMLModel",
       "_view_count": null,
       "_view_module": "@jupyter-widgets/controls",
       "_view_module_version": "1.5.0",
       "_view_name": "HTMLView",
       "description": "",
       "description_tooltip": null,
       "layout": "IPY_MODEL_ac02e5c63fcb49b698bb20538d8edec2",
       "placeholder": "​",
       "style": "IPY_MODEL_17f5dd56f70e4175b24d4e98f773c86b",
       "value": " 615/615 [00:00&lt;00:00, 21.6kB/s]"
      }
     },
     "5b99490bfd77460193bb04344a969239": {
      "model_module": "@jupyter-widgets/controls",
      "model_module_version": "1.5.0",
      "model_name": "HBoxModel",
      "state": {
       "_dom_classes": [],
       "_model_module": "@jupyter-widgets/controls",
       "_model_module_version": "1.5.0",
       "_model_name": "HBoxModel",
       "_view_count": null,
       "_view_module": "@jupyter-widgets/controls",
       "_view_module_version": "1.5.0",
       "_view_name": "HBoxView",
       "box_style": "",
       "children": [
        "IPY_MODEL_0611b6912b4043819175e880aaf7cb7c",
        "IPY_MODEL_7a4b6008956b44949f70c7bae56006e6",
        "IPY_MODEL_5480112fd45f449a9b56474f5db1fc37"
       ],
       "layout": "IPY_MODEL_35157004ef0c4d96a58c794dc6afa418"
      }
     },
     "6a301a9100f0459f8c536bf02360b336": {
      "model_module": "@jupyter-widgets/base",
      "model_module_version": "1.2.0",
      "model_name": "LayoutModel",
      "state": {
       "_model_module": "@jupyter-widgets/base",
       "_model_module_version": "1.2.0",
       "_model_name": "LayoutModel",
       "_view_count": null,
       "_view_module": "@jupyter-widgets/base",
       "_view_module_version": "1.2.0",
       "_view_name": "LayoutView",
       "align_content": null,
       "align_items": null,
       "align_self": null,
       "border": null,
       "bottom": null,
       "display": null,
       "flex": null,
       "flex_flow": null,
       "grid_area": null,
       "grid_auto_columns": null,
       "grid_auto_flow": null,
       "grid_auto_rows": null,
       "grid_column": null,
       "grid_gap": null,
       "grid_row": null,
       "grid_template_areas": null,
       "grid_template_columns": null,
       "grid_template_rows": null,
       "height": null,
       "justify_content": null,
       "justify_items": null,
       "left": null,
       "margin": null,
       "max_height": null,
       "max_width": null,
       "min_height": null,
       "min_width": null,
       "object_fit": null,
       "object_position": null,
       "order": null,
       "overflow": null,
       "overflow_x": null,
       "overflow_y": null,
       "padding": null,
       "right": null,
       "top": null,
       "visibility": null,
       "width": null
      }
     },
     "73c279d48df447ab9ff353165dc4389d": {
      "model_module": "@jupyter-widgets/controls",
      "model_module_version": "1.5.0",
      "model_name": "DescriptionStyleModel",
      "state": {
       "_model_module": "@jupyter-widgets/controls",
       "_model_module_version": "1.5.0",
       "_model_name": "DescriptionStyleModel",
       "_view_count": null,
       "_view_module": "@jupyter-widgets/base",
       "_view_module_version": "1.2.0",
       "_view_name": "StyleView",
       "description_width": ""
      }
     },
     "75bd6d7175dc454babae545739694a6a": {
      "model_module": "@jupyter-widgets/base",
      "model_module_version": "1.2.0",
      "model_name": "LayoutModel",
      "state": {
       "_model_module": "@jupyter-widgets/base",
       "_model_module_version": "1.2.0",
       "_model_name": "LayoutModel",
       "_view_count": null,
       "_view_module": "@jupyter-widgets/base",
       "_view_module_version": "1.2.0",
       "_view_name": "LayoutView",
       "align_content": null,
       "align_items": null,
       "align_self": null,
       "border": null,
       "bottom": null,
       "display": null,
       "flex": null,
       "flex_flow": null,
       "grid_area": null,
       "grid_auto_columns": null,
       "grid_auto_flow": null,
       "grid_auto_rows": null,
       "grid_column": null,
       "grid_gap": null,
       "grid_row": null,
       "grid_template_areas": null,
       "grid_template_columns": null,
       "grid_template_rows": null,
       "height": null,
       "justify_content": null,
       "justify_items": null,
       "left": null,
       "margin": null,
       "max_height": null,
       "max_width": null,
       "min_height": null,
       "min_width": null,
       "object_fit": null,
       "object_position": null,
       "order": null,
       "overflow": null,
       "overflow_x": null,
       "overflow_y": null,
       "padding": null,
       "right": null,
       "top": null,
       "visibility": null,
       "width": null
      }
     },
     "7a4b6008956b44949f70c7bae56006e6": {
      "model_module": "@jupyter-widgets/controls",
      "model_module_version": "1.5.0",
      "model_name": "FloatProgressModel",
      "state": {
       "_dom_classes": [],
       "_model_module": "@jupyter-widgets/controls",
       "_model_module_version": "1.5.0",
       "_model_name": "FloatProgressModel",
       "_view_count": null,
       "_view_module": "@jupyter-widgets/controls",
       "_view_module_version": "1.5.0",
       "_view_name": "ProgressView",
       "bar_style": "success",
       "description": "",
       "description_tooltip": null,
       "layout": "IPY_MODEL_b86168feff904f018c2d6fcb38eeacbe",
       "max": 615.0,
       "min": 0.0,
       "orientation": "horizontal",
       "style": "IPY_MODEL_02578223e84b4e1abb0610701772fb8a",
       "value": 615.0
      }
     },
     "81629c0235f84a78ad19cdb7700d9080": {
      "model_module": "@jupyter-widgets/controls",
      "model_module_version": "1.5.0",
      "model_name": "HTMLModel",
      "state": {
       "_dom_classes": [],
       "_model_module": "@jupyter-widgets/controls",
       "_model_module_version": "1.5.0",
       "_model_name": "HTMLModel",
       "_view_count": null,
       "_view_module": "@jupyter-widgets/controls",
       "_view_module_version": "1.5.0",
       "_view_name": "HTMLView",
       "description": "",
       "description_tooltip": null,
       "layout": "IPY_MODEL_f537faf7e8d84b9f8f85989ba1ab13ae",
       "placeholder": "​",
       "style": "IPY_MODEL_cdb9c6a1741c4a34bc0083e21d694ef8",
       "value": "Downloading: 100%"
      }
     },
     "879f1c8771b2416192255cf02f125b34": {
      "model_module": "@jupyter-widgets/base",
      "model_module_version": "1.2.0",
      "model_name": "LayoutModel",
      "state": {
       "_model_module": "@jupyter-widgets/base",
       "_model_module_version": "1.2.0",
       "_model_name": "LayoutModel",
       "_view_count": null,
       "_view_module": "@jupyter-widgets/base",
       "_view_module_version": "1.2.0",
       "_view_name": "LayoutView",
       "align_content": null,
       "align_items": null,
       "align_self": null,
       "border": null,
       "bottom": null,
       "display": null,
       "flex": null,
       "flex_flow": null,
       "grid_area": null,
       "grid_auto_columns": null,
       "grid_auto_flow": null,
       "grid_auto_rows": null,
       "grid_column": null,
       "grid_gap": null,
       "grid_row": null,
       "grid_template_areas": null,
       "grid_template_columns": null,
       "grid_template_rows": null,
       "height": null,
       "justify_content": null,
       "justify_items": null,
       "left": null,
       "margin": null,
       "max_height": null,
       "max_width": null,
       "min_height": null,
       "min_width": null,
       "object_fit": null,
       "object_position": null,
       "order": null,
       "overflow": null,
       "overflow_x": null,
       "overflow_y": null,
       "padding": null,
       "right": null,
       "top": null,
       "visibility": null,
       "width": null
      }
     },
     "87bc5da87e944d6fb7dc1863566177af": {
      "model_module": "@jupyter-widgets/controls",
      "model_module_version": "1.5.0",
      "model_name": "DescriptionStyleModel",
      "state": {
       "_model_module": "@jupyter-widgets/controls",
       "_model_module_version": "1.5.0",
       "_model_name": "DescriptionStyleModel",
       "_view_count": null,
       "_view_module": "@jupyter-widgets/base",
       "_view_module_version": "1.2.0",
       "_view_name": "StyleView",
       "description_width": ""
      }
     },
     "905b199b5f4a4ce895f2c4e93c85bf6f": {
      "model_module": "@jupyter-widgets/controls",
      "model_module_version": "1.5.0",
      "model_name": "ProgressStyleModel",
      "state": {
       "_model_module": "@jupyter-widgets/controls",
       "_model_module_version": "1.5.0",
       "_model_name": "ProgressStyleModel",
       "_view_count": null,
       "_view_module": "@jupyter-widgets/base",
       "_view_module_version": "1.2.0",
       "_view_name": "StyleView",
       "bar_color": null,
       "description_width": ""
      }
     },
     "a7a19519c97b4496ba43ee1b37a33972": {
      "model_module": "@jupyter-widgets/controls",
      "model_module_version": "1.5.0",
      "model_name": "DescriptionStyleModel",
      "state": {
       "_model_module": "@jupyter-widgets/controls",
       "_model_module_version": "1.5.0",
       "_model_name": "DescriptionStyleModel",
       "_view_count": null,
       "_view_module": "@jupyter-widgets/base",
       "_view_module_version": "1.2.0",
       "_view_name": "StyleView",
       "description_width": ""
      }
     },
     "ac02e5c63fcb49b698bb20538d8edec2": {
      "model_module": "@jupyter-widgets/base",
      "model_module_version": "1.2.0",
      "model_name": "LayoutModel",
      "state": {
       "_model_module": "@jupyter-widgets/base",
       "_model_module_version": "1.2.0",
       "_model_name": "LayoutModel",
       "_view_count": null,
       "_view_module": "@jupyter-widgets/base",
       "_view_module_version": "1.2.0",
       "_view_name": "LayoutView",
       "align_content": null,
       "align_items": null,
       "align_self": null,
       "border": null,
       "bottom": null,
       "display": null,
       "flex": null,
       "flex_flow": null,
       "grid_area": null,
       "grid_auto_columns": null,
       "grid_auto_flow": null,
       "grid_auto_rows": null,
       "grid_column": null,
       "grid_gap": null,
       "grid_row": null,
       "grid_template_areas": null,
       "grid_template_columns": null,
       "grid_template_rows": null,
       "height": null,
       "justify_content": null,
       "justify_items": null,
       "left": null,
       "margin": null,
       "max_height": null,
       "max_width": null,
       "min_height": null,
       "min_width": null,
       "object_fit": null,
       "object_position": null,
       "order": null,
       "overflow": null,
       "overflow_x": null,
       "overflow_y": null,
       "padding": null,
       "right": null,
       "top": null,
       "visibility": null,
       "width": null
      }
     },
     "b86168feff904f018c2d6fcb38eeacbe": {
      "model_module": "@jupyter-widgets/base",
      "model_module_version": "1.2.0",
      "model_name": "LayoutModel",
      "state": {
       "_model_module": "@jupyter-widgets/base",
       "_model_module_version": "1.2.0",
       "_model_name": "LayoutModel",
       "_view_count": null,
       "_view_module": "@jupyter-widgets/base",
       "_view_module_version": "1.2.0",
       "_view_name": "LayoutView",
       "align_content": null,
       "align_items": null,
       "align_self": null,
       "border": null,
       "bottom": null,
       "display": null,
       "flex": null,
       "flex_flow": null,
       "grid_area": null,
       "grid_auto_columns": null,
       "grid_auto_flow": null,
       "grid_auto_rows": null,
       "grid_column": null,
       "grid_gap": null,
       "grid_row": null,
       "grid_template_areas": null,
       "grid_template_columns": null,
       "grid_template_rows": null,
       "height": null,
       "justify_content": null,
       "justify_items": null,
       "left": null,
       "margin": null,
       "max_height": null,
       "max_width": null,
       "min_height": null,
       "min_width": null,
       "object_fit": null,
       "object_position": null,
       "order": null,
       "overflow": null,
       "overflow_x": null,
       "overflow_y": null,
       "padding": null,
       "right": null,
       "top": null,
       "visibility": null,
       "width": null
      }
     },
     "ba9474c0440540db881939323bbfd8eb": {
      "model_module": "@jupyter-widgets/controls",
      "model_module_version": "1.5.0",
      "model_name": "FloatProgressModel",
      "state": {
       "_dom_classes": [],
       "_model_module": "@jupyter-widgets/controls",
       "_model_module_version": "1.5.0",
       "_model_name": "FloatProgressModel",
       "_view_count": null,
       "_view_module": "@jupyter-widgets/controls",
       "_view_module_version": "1.5.0",
       "_view_name": "ProgressView",
       "bar_style": "success",
       "description": "",
       "description_tooltip": null,
       "layout": "IPY_MODEL_f9a79434374041a0a0851b86c00e2d4f",
       "max": 5069051.0,
       "min": 0.0,
       "orientation": "horizontal",
       "style": "IPY_MODEL_ff791e56669244499056d92519749cdf",
       "value": 5069051.0
      }
     },
     "bc165c8ebfe34a89b035c7eefe28e24f": {
      "model_module": "@jupyter-widgets/controls",
      "model_module_version": "1.5.0",
      "model_name": "HBoxModel",
      "state": {
       "_dom_classes": [],
       "_model_module": "@jupyter-widgets/controls",
       "_model_module_version": "1.5.0",
       "_model_name": "HBoxModel",
       "_view_count": null,
       "_view_module": "@jupyter-widgets/controls",
       "_view_module_version": "1.5.0",
       "_view_name": "HBoxView",
       "box_style": "",
       "children": [
        "IPY_MODEL_d08a4949feb74ab0988d4ddce031888b",
        "IPY_MODEL_4bbf5588b7e64b7d8c1aeacce35e9132",
        "IPY_MODEL_efb5757e28a2407f8ebd41e45821c7be"
       ],
       "layout": "IPY_MODEL_50c46f051f9f44b4b9eadf85ff0e37e8"
      }
     },
     "bc1bf4cfbce04f6f930f80cc7dab702a": {
      "model_module": "@jupyter-widgets/base",
      "model_module_version": "1.2.0",
      "model_name": "LayoutModel",
      "state": {
       "_model_module": "@jupyter-widgets/base",
       "_model_module_version": "1.2.0",
       "_model_name": "LayoutModel",
       "_view_count": null,
       "_view_module": "@jupyter-widgets/base",
       "_view_module_version": "1.2.0",
       "_view_name": "LayoutView",
       "align_content": null,
       "align_items": null,
       "align_self": null,
       "border": null,
       "bottom": null,
       "display": null,
       "flex": null,
       "flex_flow": null,
       "grid_area": null,
       "grid_auto_columns": null,
       "grid_auto_flow": null,
       "grid_auto_rows": null,
       "grid_column": null,
       "grid_gap": null,
       "grid_row": null,
       "grid_template_areas": null,
       "grid_template_columns": null,
       "grid_template_rows": null,
       "height": null,
       "justify_content": null,
       "justify_items": null,
       "left": null,
       "margin": null,
       "max_height": null,
       "max_width": null,
       "min_height": null,
       "min_width": null,
       "object_fit": null,
       "object_position": null,
       "order": null,
       "overflow": null,
       "overflow_x": null,
       "overflow_y": null,
       "padding": null,
       "right": null,
       "top": null,
       "visibility": null,
       "width": null
      }
     },
     "c0a6e705f8fe4ffa9e9c3d23e9602e50": {
      "model_module": "@jupyter-widgets/controls",
      "model_module_version": "1.5.0",
      "model_name": "HBoxModel",
      "state": {
       "_dom_classes": [],
       "_model_module": "@jupyter-widgets/controls",
       "_model_module_version": "1.5.0",
       "_model_name": "HBoxModel",
       "_view_count": null,
       "_view_module": "@jupyter-widgets/controls",
       "_view_module_version": "1.5.0",
       "_view_name": "HBoxView",
       "box_style": "",
       "children": [
        "IPY_MODEL_31afdbf9b5ef4abab50013780b25c347",
        "IPY_MODEL_ba9474c0440540db881939323bbfd8eb",
        "IPY_MODEL_d300ab82b67241309cca8473f5031d26"
       ],
       "layout": "IPY_MODEL_d13a067918b349e4aecf14be8cfb330e"
      }
     },
     "c8e9e6476d31407a95279f65906927c1": {
      "model_module": "@jupyter-widgets/controls",
      "model_module_version": "1.5.0",
      "model_name": "DescriptionStyleModel",
      "state": {
       "_model_module": "@jupyter-widgets/controls",
       "_model_module_version": "1.5.0",
       "_model_name": "DescriptionStyleModel",
       "_view_count": null,
       "_view_module": "@jupyter-widgets/base",
       "_view_module_version": "1.2.0",
       "_view_name": "StyleView",
       "description_width": ""
      }
     },
     "cdb9c6a1741c4a34bc0083e21d694ef8": {
      "model_module": "@jupyter-widgets/controls",
      "model_module_version": "1.5.0",
      "model_name": "DescriptionStyleModel",
      "state": {
       "_model_module": "@jupyter-widgets/controls",
       "_model_module_version": "1.5.0",
       "_model_name": "DescriptionStyleModel",
       "_view_count": null,
       "_view_module": "@jupyter-widgets/base",
       "_view_module_version": "1.2.0",
       "_view_name": "StyleView",
       "description_width": ""
      }
     },
     "d08a4949feb74ab0988d4ddce031888b": {
      "model_module": "@jupyter-widgets/controls",
      "model_module_version": "1.5.0",
      "model_name": "HTMLModel",
      "state": {
       "_dom_classes": [],
       "_model_module": "@jupyter-widgets/controls",
       "_model_module_version": "1.5.0",
       "_model_name": "HTMLModel",
       "_view_count": null,
       "_view_module": "@jupyter-widgets/controls",
       "_view_module_version": "1.5.0",
       "_view_name": "HTMLView",
       "description": "",
       "description_tooltip": null,
       "layout": "IPY_MODEL_da827cc558d44d2abc8e36aa2ef1b4db",
       "placeholder": "​",
       "style": "IPY_MODEL_c8e9e6476d31407a95279f65906927c1",
       "value": "Downloading: 100%"
      }
     },
     "d13a067918b349e4aecf14be8cfb330e": {
      "model_module": "@jupyter-widgets/base",
      "model_module_version": "1.2.0",
      "model_name": "LayoutModel",
      "state": {
       "_model_module": "@jupyter-widgets/base",
       "_model_module_version": "1.2.0",
       "_model_name": "LayoutModel",
       "_view_count": null,
       "_view_module": "@jupyter-widgets/base",
       "_view_module_version": "1.2.0",
       "_view_name": "LayoutView",
       "align_content": null,
       "align_items": null,
       "align_self": null,
       "border": null,
       "bottom": null,
       "display": null,
       "flex": null,
       "flex_flow": null,
       "grid_area": null,
       "grid_auto_columns": null,
       "grid_auto_flow": null,
       "grid_auto_rows": null,
       "grid_column": null,
       "grid_gap": null,
       "grid_row": null,
       "grid_template_areas": null,
       "grid_template_columns": null,
       "grid_template_rows": null,
       "height": null,
       "justify_content": null,
       "justify_items": null,
       "left": null,
       "margin": null,
       "max_height": null,
       "max_width": null,
       "min_height": null,
       "min_width": null,
       "object_fit": null,
       "object_position": null,
       "order": null,
       "overflow": null,
       "overflow_x": null,
       "overflow_y": null,
       "padding": null,
       "right": null,
       "top": null,
       "visibility": null,
       "width": null
      }
     },
     "d300ab82b67241309cca8473f5031d26": {
      "model_module": "@jupyter-widgets/controls",
      "model_module_version": "1.5.0",
      "model_name": "HTMLModel",
      "state": {
       "_dom_classes": [],
       "_model_module": "@jupyter-widgets/controls",
       "_model_module_version": "1.5.0",
       "_model_name": "HTMLModel",
       "_view_count": null,
       "_view_module": "@jupyter-widgets/controls",
       "_view_module_version": "1.5.0",
       "_view_name": "HTMLView",
       "description": "",
       "description_tooltip": null,
       "layout": "IPY_MODEL_bc1bf4cfbce04f6f930f80cc7dab702a",
       "placeholder": "​",
       "style": "IPY_MODEL_2ee569e575064d4c9bab0a0470a4c7bf",
       "value": " 4.83M/4.83M [00:01&lt;00:00, 3.89MB/s]"
      }
     },
     "da827cc558d44d2abc8e36aa2ef1b4db": {
      "model_module": "@jupyter-widgets/base",
      "model_module_version": "1.2.0",
      "model_name": "LayoutModel",
      "state": {
       "_model_module": "@jupyter-widgets/base",
       "_model_module_version": "1.2.0",
       "_model_name": "LayoutModel",
       "_view_count": null,
       "_view_module": "@jupyter-widgets/base",
       "_view_module_version": "1.2.0",
       "_view_name": "LayoutView",
       "align_content": null,
       "align_items": null,
       "align_self": null,
       "border": null,
       "bottom": null,
       "display": null,
       "flex": null,
       "flex_flow": null,
       "grid_area": null,
       "grid_auto_columns": null,
       "grid_auto_flow": null,
       "grid_auto_rows": null,
       "grid_column": null,
       "grid_gap": null,
       "grid_row": null,
       "grid_template_areas": null,
       "grid_template_columns": null,
       "grid_template_rows": null,
       "height": null,
       "justify_content": null,
       "justify_items": null,
       "left": null,
       "margin": null,
       "max_height": null,
       "max_width": null,
       "min_height": null,
       "min_width": null,
       "object_fit": null,
       "object_position": null,
       "order": null,
       "overflow": null,
       "overflow_x": null,
       "overflow_y": null,
       "padding": null,
       "right": null,
       "top": null,
       "visibility": null,
       "width": null
      }
     },
     "ee9eb98e2a784a72b78ee80df86fab6b": {
      "model_module": "@jupyter-widgets/controls",
      "model_module_version": "1.5.0",
      "model_name": "HTMLModel",
      "state": {
       "_dom_classes": [],
       "_model_module": "@jupyter-widgets/controls",
       "_model_module_version": "1.5.0",
       "_model_name": "HTMLModel",
       "_view_count": null,
       "_view_module": "@jupyter-widgets/controls",
       "_view_module_version": "1.5.0",
       "_view_name": "HTMLView",
       "description": "",
       "description_tooltip": null,
       "layout": "IPY_MODEL_6a301a9100f0459f8c536bf02360b336",
       "placeholder": "​",
       "style": "IPY_MODEL_a7a19519c97b4496ba43ee1b37a33972",
       "value": " 8.68M/8.68M [00:02&lt;00:00, 7.59MB/s]"
      }
     },
     "efb5757e28a2407f8ebd41e45821c7be": {
      "model_module": "@jupyter-widgets/controls",
      "model_module_version": "1.5.0",
      "model_name": "HTMLModel",
      "state": {
       "_dom_classes": [],
       "_model_module": "@jupyter-widgets/controls",
       "_model_module_version": "1.5.0",
       "_model_name": "HTMLModel",
       "_view_count": null,
       "_view_module": "@jupyter-widgets/controls",
       "_view_module_version": "1.5.0",
       "_view_name": "HTMLView",
       "description": "",
       "description_tooltip": null,
       "layout": "IPY_MODEL_75bd6d7175dc454babae545739694a6a",
       "placeholder": "​",
       "style": "IPY_MODEL_87bc5da87e944d6fb7dc1863566177af",
       "value": " 1.04G/1.04G [01:37&lt;00:00, 12.1MB/s]"
      }
     },
     "f537faf7e8d84b9f8f85989ba1ab13ae": {
      "model_module": "@jupyter-widgets/base",
      "model_module_version": "1.2.0",
      "model_name": "LayoutModel",
      "state": {
       "_model_module": "@jupyter-widgets/base",
       "_model_module_version": "1.2.0",
       "_model_name": "LayoutModel",
       "_view_count": null,
       "_view_module": "@jupyter-widgets/base",
       "_view_module_version": "1.2.0",
       "_view_name": "LayoutView",
       "align_content": null,
       "align_items": null,
       "align_self": null,
       "border": null,
       "bottom": null,
       "display": null,
       "flex": null,
       "flex_flow": null,
       "grid_area": null,
       "grid_auto_columns": null,
       "grid_auto_flow": null,
       "grid_auto_rows": null,
       "grid_column": null,
       "grid_gap": null,
       "grid_row": null,
       "grid_template_areas": null,
       "grid_template_columns": null,
       "grid_template_rows": null,
       "height": null,
       "justify_content": null,
       "justify_items": null,
       "left": null,
       "margin": null,
       "max_height": null,
       "max_width": null,
       "min_height": null,
       "min_width": null,
       "object_fit": null,
       "object_position": null,
       "order": null,
       "overflow": null,
       "overflow_x": null,
       "overflow_y": null,
       "padding": null,
       "right": null,
       "top": null,
       "visibility": null,
       "width": null
      }
     },
     "f9a79434374041a0a0851b86c00e2d4f": {
      "model_module": "@jupyter-widgets/base",
      "model_module_version": "1.2.0",
      "model_name": "LayoutModel",
      "state": {
       "_model_module": "@jupyter-widgets/base",
       "_model_module_version": "1.2.0",
       "_model_name": "LayoutModel",
       "_view_count": null,
       "_view_module": "@jupyter-widgets/base",
       "_view_module_version": "1.2.0",
       "_view_name": "LayoutView",
       "align_content": null,
       "align_items": null,
       "align_self": null,
       "border": null,
       "bottom": null,
       "display": null,
       "flex": null,
       "flex_flow": null,
       "grid_area": null,
       "grid_auto_columns": null,
       "grid_auto_flow": null,
       "grid_auto_rows": null,
       "grid_column": null,
       "grid_gap": null,
       "grid_row": null,
       "grid_template_areas": null,
       "grid_template_columns": null,
       "grid_template_rows": null,
       "height": null,
       "justify_content": null,
       "justify_items": null,
       "left": null,
       "margin": null,
       "max_height": null,
       "max_width": null,
       "min_height": null,
       "min_width": null,
       "object_fit": null,
       "object_position": null,
       "order": null,
       "overflow": null,
       "overflow_x": null,
       "overflow_y": null,
       "padding": null,
       "right": null,
       "top": null,
       "visibility": null,
       "width": null
      }
     },
     "fdc094202a014b53ab4fd4820d810821": {
      "model_module": "@jupyter-widgets/controls",
      "model_module_version": "1.5.0",
      "model_name": "FloatProgressModel",
      "state": {
       "_dom_classes": [],
       "_model_module": "@jupyter-widgets/controls",
       "_model_module_version": "1.5.0",
       "_model_name": "FloatProgressModel",
       "_view_count": null,
       "_view_module": "@jupyter-widgets/controls",
       "_view_module_version": "1.5.0",
       "_view_name": "ProgressView",
       "bar_style": "success",
       "description": "",
       "description_tooltip": null,
       "layout": "IPY_MODEL_1a6fbe70bdc745c2b7fe8bc752244cab",
       "max": 9096718.0,
       "min": 0.0,
       "orientation": "horizontal",
       "style": "IPY_MODEL_905b199b5f4a4ce895f2c4e93c85bf6f",
       "value": 9096718.0
      }
     },
     "ff791e56669244499056d92519749cdf": {
      "model_module": "@jupyter-widgets/controls",
      "model_module_version": "1.5.0",
      "model_name": "ProgressStyleModel",
      "state": {
       "_model_module": "@jupyter-widgets/controls",
       "_model_module_version": "1.5.0",
       "_model_name": "ProgressStyleModel",
       "_view_count": null,
       "_view_module": "@jupyter-widgets/base",
       "_view_module_version": "1.2.0",
       "_view_name": "StyleView",
       "bar_color": null,
       "description_width": ""
      }
     }
    },
    "version_major": 2,
    "version_minor": 0
   }
  }
 },
 "nbformat": 4,
 "nbformat_minor": 5
}
